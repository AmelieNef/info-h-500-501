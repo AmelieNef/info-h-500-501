{
 "cells": [
  {
   "cell_type": "markdown",
   "metadata": {},
   "source": [
    "##chapter content"
   ]
  },
  {
   "cell_type": "markdown",
   "metadata": {},
   "source": [
    "* intro machine vision\n",
    "* pin-hole camera model\n",
    "* stereo-vision, multi-view\n",
    "* image registration\n",
    "* Harris corner detection\n",
    "* Fast\n",
    "* sift, surf, others\n",
    "* DoG pyramid\n",
    "* Robust object detection\n",
    "* SLAM"
   ]
  },
  {
   "cell_type": "code",
   "execution_count": null,
   "metadata": {
    "collapsed": true
   },
   "outputs": [],
   "source": []
  }
 ],
 "metadata": {
  "kernelspec": {
   "display_name": "Python 2",
   "language": "python",
   "name": "python2"
  },
  "language_info": {
   "codemirror_mode": {
    "name": "ipython",
    "version": 2
   },
   "file_extension": ".py",
   "mimetype": "text/x-python",
   "name": "python",
   "nbconvert_exporter": "python",
   "pygments_lexer": "ipython2",
   "version": "2.7.10"
  }
 },
 "nbformat": 4,
 "nbformat_minor": 0
}
