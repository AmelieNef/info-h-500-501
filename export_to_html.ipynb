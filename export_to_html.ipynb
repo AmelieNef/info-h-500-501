{
 "cells": [
  {
   "cell_type": "code",
   "execution_count": 7,
   "metadata": {
    "collapsed": false
   },
   "outputs": [],
   "source": [
    "# copy tree structure\n",
    "import os\n",
    "\n",
    "try:\n",
    "    os.mkdir(os.path.join('./html',c))\n",
    "except OSError:\n",
    "    pass\n",
    "try:\n",
    "    os.mkdir(os.path.join('./html/labs',c))\n",
    "except OSError:\n",
    "    pass\n",
    "\n",
    "ld = os.listdir('.')\n",
    "\n",
    "chapters = [n for n in os.listdir('.') if '00'<= n <='99']\n",
    "for c in chapters:\n",
    "    try:\n",
    "        os.mkdir(os.path.join('./html',c))\n",
    "    except OSError:\n",
    "        pass\n",
    "    \n",
    "labs = [n for n in os.listdir('./LABS/') if '00'<= n <='99']\n",
    "for c in labs:\n",
    "    try:\n",
    "        os.mkdir(os.path.join('./html/LABS',c))\n",
    "    except OSError:\n",
    "        pass"
   ]
  },
  {
   "cell_type": "code",
   "execution_count": 9,
   "metadata": {
    "collapsed": false
   },
   "outputs": [
    {
     "name": "stdout",
     "output_type": "stream",
     "text": [
      "./LABS/00-readme/content.ipynb ./html/LABS/00-readme/content.html\n",
      "./LABS/01-Image information/content.ipynb ./html/LABS/01-Image information/content.html\n",
      "./LABS/02-Convolution/content.ipynb ./html/LABS/02-Convolution/content.html\n",
      "./LABS/03-Color spaces/content.ipynb ./html/LABS/03-Color spaces/content.html\n",
      "./LABS/04-Morphological operations/content.ipynb ./html/LABS/04-Morphological operations/content.html\n",
      "./LABS/05-Object description/content.ipynb ./html/LABS/05-Object description/content.html\n"
     ]
    }
   ],
   "source": [
    "# export all .ipynb to html\n",
    "\n",
    "def replace_ipynb_by_html(fname):\n",
    "    s = open(fname).read()\n",
    "    r = s.replace('.ipynb','.html')\n",
    "    fid = open(fname,'wt')\n",
    "    fid.write(r)\n",
    "    fid.close()\n",
    "\n",
    "def convert(chapters,path_source='.',path_dest='./html'):\n",
    "    for c in chapters:\n",
    "        source = os.path.join(path_source,c)\n",
    "        destination = os.path.join(path_dest,c)\n",
    "        names = [os.path.splitext(fn)[0] for fn in os.listdir(source) if fn.endswith('.ipynb')]\n",
    "        for n in names:\n",
    "            nb_filename = os.path.join(source,n+'.ipynb')\n",
    "            html_filename = os.path.join(destination,n+'.html')\n",
    "            print nb_filename, html_filename\n",
    "            # convert notebook\n",
    "            s = !ipython nbconvert --to html --output '$html_filename' '$nb_filename'\n",
    "            replace_ipynb_by_html(html_filename)\n",
    "\n",
    "convert(chapters)\n",
    "convert(labs,'./LABS','./html/LABS')"
   ]
  },
  {
   "cell_type": "code",
   "execution_count": 15,
   "metadata": {
    "collapsed": false
   },
   "outputs": [],
   "source": [
    "# convert indexes\n",
    "nb_filename = os.path.join('.','Index.ipynb')\n",
    "html_filename = os.path.join('./html','Index.html')\n",
    "s = !ipython nbconvert --to html --output '$html_filename' '$nb_filename'\n",
    "replace_ipynb_by_html(html_filename)\n",
    "\n",
    "nb_filename = os.path.join('.','Index-labs1-6.ipynb')\n",
    "html_filename = os.path.join('./html','Index-labs1-6.html')\n",
    "s = !ipython nbconvert --to html --output '$html_filename' '$nb_filename'\n",
    "replace_ipynb_by_html(html_filename)"
   ]
  },
  {
   "cell_type": "code",
   "execution_count": null,
   "metadata": {
    "collapsed": true
   },
   "outputs": [],
   "source": []
  }
 ],
 "metadata": {
  "kernelspec": {
   "display_name": "Python 2",
   "language": "python",
   "name": "python2"
  },
  "language_info": {
   "codemirror_mode": {
    "name": "ipython",
    "version": 2
   },
   "file_extension": ".py",
   "mimetype": "text/x-python",
   "name": "python",
   "nbconvert_exporter": "python",
   "pygments_lexer": "ipython2",
   "version": "2.7.10"
  }
 },
 "nbformat": 4,
 "nbformat_minor": 0
}
