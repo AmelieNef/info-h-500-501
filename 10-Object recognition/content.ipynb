{
 "cells": [
  {
   "cell_type": "markdown",
   "metadata": {},
   "source": [
    "##chapter content"
   ]
  },
  {
   "cell_type": "markdown",
   "metadata": {},
   "source": [
    "* the general recognition problem\n",
    "* face detection\n",
    "* finger print recognition\n",
    "* microscopy image analysis\n",
    "* traffic analysis, one class classifier\n",
    "* bag of visual word\n",
    "* remote sensing land use classification "
   ]
  },
  {
   "cell_type": "code",
   "execution_count": null,
   "metadata": {
    "collapsed": true
   },
   "outputs": [],
   "source": []
  }
 ],
 "metadata": {
  "kernelspec": {
   "display_name": "Python 2",
   "language": "python",
   "name": "python2"
  },
  "language_info": {
   "codemirror_mode": {
    "name": "ipython",
    "version": 2
   },
   "file_extension": ".py",
   "mimetype": "text/x-python",
   "name": "python",
   "nbconvert_exporter": "python",
   "pygments_lexer": "ipython2",
   "version": "2.7.10"
  }
 },
 "nbformat": 4,
 "nbformat_minor": 0
}
