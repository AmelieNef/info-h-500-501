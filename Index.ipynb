{
 "metadata": {
  "name": "",
  "signature": "sha256:29e54675657cde07cbb60188556eaf9bb5e1d11b8f7a7eceb7989154d8387859"
 },
 "nbformat": 3,
 "nbformat_minor": 0,
 "worksheets": [
  {
   "cells": [
    {
     "cell_type": "heading",
     "level": 1,
     "metadata": {},
     "source": [
      "Introduction to image processing"
     ]
    }
   ],
   "metadata": {}
  }
 ]
}