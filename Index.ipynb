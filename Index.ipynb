{
 "cells": [
  {
   "cell_type": "markdown",
   "metadata": {},
   "source": [
    "# Introduction to image processing"
   ]
  },
  {
   "cell_type": "markdown",
   "metadata": {},
   "source": [
    "Outline\n",
    "=======\n",
    "0. Introduction\n",
    "    1. [aim of the course](Introduction/aim.ipynb)\n",
    "    1. [practical works](Introduction/practical_works.ipynb)\n",
    "    1. [continuous integration](Introduction/integration.ipynb)\n",
    "    1. [get involved](Introduction/get_involved.ipynb)\n",
    "\n",
    "1. Image acquisition\n",
    "    1. [vision](Acquisition/vision.ipynb)\n",
    "    1. [sampling](Acquisition/sampling.ipynb)\n",
    "    1. [pyramid](Acquisition/pyramid.ipynb)\n",
    "    1. [color](Acquisition/color.ipynb)\n",
    "    \n",
    "2. Image Information\n",
    "    1. [histogram](Image_information/histogram.ipynb)\n",
    "    1. [entropy](Image_information/entropy.ipynb)\n",
    "    \n",
    "3. Image enhancement\n",
    "    1. [point processing](Enhancement/point_processing.ipynb)\n",
    "    1. [linear filtering](Enhancement/linear_filtering.ipynb)\n",
    "    1. [non-linear filtering](Enhancement/non_linear_filtering.ipynb)\n",
    "\n",
    "4. Edge detection\n",
    "    1. [spatial derivatives](Edge_detection/spatial_derivatives.ipynb)\n",
    "\n",
    "5. Morphomathematics\n",
    "\n",
    "6. Segmentation"
   ]
  },
  {
   "cell_type": "code",
   "execution_count": null,
   "metadata": {
    "collapsed": false
   },
   "outputs": [],
   "source": []
  }
 ],
 "metadata": {
  "kernelspec": {
   "display_name": "Python 2",
   "language": "python",
   "name": "python2"
  },
  "language_info": {
   "codemirror_mode": {
    "name": "ipython",
    "version": 2
   },
   "file_extension": ".py",
   "mimetype": "text/x-python",
   "name": "python",
   "nbconvert_exporter": "python",
   "pygments_lexer": "ipython2",
   "version": "2.7.10"
  }
 },
 "nbformat": 4,
 "nbformat_minor": 0
}
