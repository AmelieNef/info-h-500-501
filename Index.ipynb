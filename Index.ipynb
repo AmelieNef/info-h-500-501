{
 "cells": [
  {
   "cell_type": "markdown",
   "metadata": {},
   "source": [
    "# Introduction to image processing"
   ]
  },
  {
   "cell_type": "code",
   "execution_count": null,
   "metadata": {
    "collapsed": false
   },
   "outputs": [],
   "source": []
  },
  {
   "cell_type": "code",
   "execution_count": 112,
   "metadata": {
    "collapsed": false
   },
   "outputs": [],
   "source": [
    "from IPython.display import Markdown, display\n",
    "from helpers import chapters_to_md"
   ]
  },
  {
   "cell_type": "code",
   "execution_count": 113,
   "metadata": {
    "collapsed": false
   },
   "outputs": [
    {
     "data": {
      "text/markdown": [
       "Outline\n",
       "=======\n",
       "0. [Preface](00-Preface/content.ipynb)\n",
       "    0. [Aims](00-Preface/01-Aims.ipynb)\n",
       "    0. [Integration](00-Preface/02-Integration.ipynb)\n",
       "    0. [Get involved](00-Preface/03-Get involved.ipynb)\n",
       "    0. [Bokeh plots](00-Preface/04-Bokeh plots.ipynb)\n",
       "    0. [Practical works](00-Preface/05-Practical works.ipynb)\n",
       "0. [Introduction](01-Introduction/content.ipynb)\n",
       "    0. [Biological vision](01-Introduction/01-Biological vision.ipynb)\n",
       "    0. [Image sensors](01-Introduction/02-Image sensors.ipynb)\n",
       "    0. [Digital image](01-Introduction/03-Digital image.ipynb)\n",
       "0. [Low-level image processing](02-Low-level image processing/content.ipynb)\n",
       "    0. [Point processing](02-Low-level image processing/01-Point processing.ipynb)\n",
       "    0. [Linear filtering](02-Low-level image processing/02-Linear filtering.ipynb)\n",
       "    0. [Non linear filtering](02-Low-level image processing/03-Non linear filtering.ipynb)\n",
       "0. [Basic image analysis](03-Basic image analysis/content.ipynb)\n",
       "0. [Image segmentation](04-Image segmentation/content.ipynb)\n",
       "0. [Morphomathematics](05-Morphomathematics/content.ipynb)\n",
       "0. [Object feature extraction](06-Object feature extraction/content.ipynb)\n",
       "0. [Model-based segmentation](07-Model-based segmentation/content.ipynb)\n",
       "0. [Vision](08-Vision/content.ipynb)\n",
       "0. [Object tracking](09-Object tracking/content.ipynb)\n",
       "0. [Object recognition](10-Object recognition/content.ipynb)\n"
      ],
      "text/plain": [
       "<IPython.core.display.Markdown object>"
      ]
     },
     "metadata": {},
     "output_type": "display_data"
    }
   ],
   "source": [
    "display(Markdown(chapters_to_md()))"
   ]
  },
  {
   "cell_type": "code",
   "execution_count": 114,
   "metadata": {
    "collapsed": false
   },
   "outputs": [
    {
     "data": {
      "image/svg+xml": [
       "<svg height=\"20\" width=\"81\" xmlns=\"http://www.w3.org/2000/svg\"><linearGradient id=\"a\" x2=\"0\" y2=\"100%\"><stop offset=\"0\" stop-color=\"#bbb\" stop-opacity=\".1\"/><stop offset=\"1\" stop-opacity=\".1\"/></linearGradient><rect fill=\"#555\" height=\"20\" rx=\"3\" width=\"81\"/><rect fill=\"#e05d44\" height=\"20\" rx=\"3\" width=\"44\" x=\"37\"/><path d=\"M37 0h4v20h-4z\" fill=\"#e05d44\"/><rect fill=\"url(#a)\" height=\"20\" rx=\"3\" width=\"81\"/><g fill=\"#fff\" font-family=\"DejaVu Sans,Verdana,Geneva,sans-serif\" font-size=\"11\" text-anchor=\"middle\"><text fill=\"#010101\" fill-opacity=\".3\" x=\"19.5\" y=\"15\">build</text><text x=\"19.5\" y=\"14\">build</text><text fill=\"#010101\" fill-opacity=\".3\" x=\"58\" y=\"15\">failing</text><text x=\"58\" y=\"14\">failing</text></g></svg>"
      ],
      "text/plain": [
       "<IPython.core.display.SVG object>"
      ]
     },
     "execution_count": 114,
     "metadata": {},
     "output_type": "execute_result"
    }
   ],
   "source": [
    "from IPython.display import SVG\n",
    "SVG('https://travis-ci.org/odebeir/info-h-500-501.svg?branch=master')"
   ]
  },
  {
   "cell_type": "code",
   "execution_count": 115,
   "metadata": {
    "collapsed": false
   },
   "outputs": [
    {
     "name": "stdout",
     "output_type": "stream",
     "text": [
      "Last updated: 22/07/2015\n"
     ]
    },
    {
     "data": {
      "text/html": [
       "<script>code_show=true; \n",
       "    function code_toggle() {\n",
       "     if (code_show){$('div.input').hide();} else {$('div.input').show();}\n",
       "     code_show = !code_show}\n",
       "    $( document ).ready(code_toggle);</script>\n",
       "    <a href=\"javascript:code_toggle()\">show/hide source code</a>\n",
       "    "
      ],
      "text/plain": [
       "<IPython.core.display.HTML object>"
      ]
     },
     "execution_count": 115,
     "metadata": {},
     "output_type": "execute_result"
    }
   ],
   "source": [
    "%matplotlib inline\n",
    "import time\n",
    "print('Last updated: %s' %time.strftime('%d/%m/%Y'))\n",
    "import sys\n",
    "sys.path.insert(0,'..')\n",
    "from IPython.display import HTML\n",
    "from helpers import show_hide\n",
    "HTML(show_hide)"
   ]
  },
  {
   "cell_type": "code",
   "execution_count": 116,
   "metadata": {
    "collapsed": false
   },
   "outputs": [
    {
     "data": {
      "text/html": [
       "<link href='http://fonts.googleapis.com/css?family=Fenix' rel='stylesheet' type='text/css'>\n",
       "<link href='http://fonts.googleapis.com/css?family=Alegreya+Sans:100,300,400,500,700,800,900,100italic,300italic,400italic,500italic,700italic,800italic,900italic' rel='stylesheet' type='text/css'>\n",
       "<link href='http://fonts.googleapis.com/css?family=Source+Code+Pro:300,400' rel='stylesheet' type='text/css'>\n",
       "<style>\n",
       "    @font-face {\n",
       "        font-family: \"Computer Modern\";\n",
       "        src: url('http://mirrors.ctan.org/fonts/cm-unicode/fonts/otf/cmunss.otf');\n",
       "    }\n",
       "    div.cell{\n",
       "        width:800px;\n",
       "        margin-left:1% !important;\n",
       "        margin-right:auto;\n",
       "    }\n",
       "    h1 {\n",
       "        font-family: 'Alegreya Sans', sans-serif;\n",
       "    }\n",
       "    h2 {\n",
       "        font-family: 'Fenix', serif;\n",
       "    }\n",
       "    h3{\n",
       "\t\tfont-family: 'Fenix', serif;\n",
       "        margin-top:12px;\n",
       "        margin-bottom: 3px;\n",
       "       }\n",
       "\th4{\n",
       "\t\tfont-family: 'Fenix', serif;\n",
       "       }\n",
       "    h5 {\n",
       "        font-family: 'Alegreya Sans', sans-serif;\n",
       "    }\t   \n",
       "    div.text_cell_render{\n",
       "        font-family: 'Alegreya Sans',Computer Modern, \"Helvetica Neue\", Arial, Helvetica, Geneva, sans-serif;\n",
       "        line-height: 135%;\n",
       "        font-size: 120%;\n",
       "        width:600px;\n",
       "        margin-left:auto;\n",
       "        margin-right:auto;\n",
       "    }\n",
       "    .CodeMirror{\n",
       "            font-family: \"Source Code Pro\";\n",
       "\t\t\tfont-size: 90%;\n",
       "    }\n",
       "    .prompt{\n",
       "        display: None;\n",
       "    }\n",
       "    .text_cell_render h1 {\n",
       "        font-weight: 200;\n",
       "        font-size: 50pt;\n",
       "\t\tline-height: 100%;\n",
       "        color:#CD2305;\n",
       "        margin-bottom: 0.5em;\n",
       "        margin-top: 0.5em;\n",
       "        display: block;\n",
       "    }\t\n",
       "    .text_cell_render h5 {\n",
       "        font-weight: 300;\n",
       "        font-size: 16pt;\n",
       "        color: #CD2305;\n",
       "        font-style: italic;\n",
       "        margin-bottom: .5em;\n",
       "        margin-top: 0.5em;\n",
       "        display: block;\n",
       "    }\n",
       "    \n",
       "    .warning{\n",
       "        color: rgb( 240, 20, 20 )\n",
       "        }\n",
       "\n",
       "    ol {\n",
       "    counter-reset: num -1;\n",
       "    }\n",
       "    ol li {\n",
       "        list-style-type: none;\n",
       "    }\n",
       "    ol li:before {\n",
       "        counter-increment: num;\n",
       "        content: counter(num) \". \";\n",
       "    }\n",
       "</style>\n",
       "<script>\n",
       "    MathJax.Hub.Config({\n",
       "                        TeX: {\n",
       "                           extensions: [\"AMSmath.js\"]\n",
       "                           },\n",
       "                tex2jax: {\n",
       "                    inlineMath: [ ['$','$'], [\"\\\\(\",\"\\\\)\"] ],\n",
       "                    displayMath: [ ['$$','$$'], [\"\\\\[\",\"\\\\]\"] ]\n",
       "                },\n",
       "                displayAlign: 'center', // Change this to 'center' to center equations.\n",
       "                \"HTML-CSS\": {\n",
       "                    styles: {'.MathJax_Display': {\"margin\": 4}}\n",
       "                }\n",
       "        });\n",
       "</script>\n"
      ],
      "text/plain": [
       "<IPython.core.display.HTML object>"
      ]
     },
     "execution_count": 116,
     "metadata": {},
     "output_type": "execute_result"
    }
   ],
   "source": [
    "from IPython.core.display import HTML\n",
    "def css_styling():\n",
    "    styles = open(\"./styles/custom.css\", \"r\").read()\n",
    "    return HTML(styles)\n",
    "css_styling()"
   ]
  },
  {
   "cell_type": "code",
   "execution_count": null,
   "metadata": {
    "collapsed": false
   },
   "outputs": [],
   "source": []
  },
  {
   "cell_type": "code",
   "execution_count": null,
   "metadata": {
    "collapsed": true
   },
   "outputs": [],
   "source": []
  }
 ],
 "metadata": {
  "kernelspec": {
   "display_name": "Python 2",
   "language": "python",
   "name": "python2"
  },
  "language_info": {
   "codemirror_mode": {
    "name": "ipython",
    "version": 2
   },
   "file_extension": ".py",
   "mimetype": "text/x-python",
   "name": "python",
   "nbconvert_exporter": "python",
   "pygments_lexer": "ipython2",
   "version": "2.7.10"
  }
 },
 "nbformat": 4,
 "nbformat_minor": 0
}
