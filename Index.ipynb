{
 "metadata": {
  "name": "",
  "signature": "sha256:61a81f038addd0513bb4386551ca2d876e9611a4f382d5a39f4d316ef9a48f44"
 },
 "nbformat": 3,
 "nbformat_minor": 0,
 "worksheets": [
  {
   "cells": [
    {
     "cell_type": "heading",
     "level": 1,
     "metadata": {},
     "source": [
      "Introduction to image processing"
     ]
    },
    {
     "cell_type": "code",
     "collapsed": false,
     "input": [
      "from skimage import __version__ as skv\n",
      "print(skv)\n"
     ],
     "language": "python",
     "metadata": {},
     "outputs": [
      {
       "output_type": "stream",
       "stream": "stdout",
       "text": [
        "0.10.1\n"
       ]
      }
     ],
     "prompt_number": 9
    },
    {
     "cell_type": "markdown",
     "metadata": {},
     "source": [
      "Outline\n",
      "=======\n",
      "\n",
      "1. Image acquisition\n",
      "    1. [vision](Acquisition/vision.ipynb)\n",
      "    1. [sampling](Acquisition/sampling.ipynb)\n",
      "    \n",
      "2. Image Information\n",
      "    1. [histogram](Image_information/histogram.ipynb)\n",
      "    1. [entropy](Image_information/entropy.ipynb)\n",
      "    \n",
      "3. Image enhancement\n",
      "\n",
      "4. Edge detection\n",
      "\n",
      "5. Morphomathematics\n",
      "\n",
      "6. Segmentation"
     ]
    },
    {
     "cell_type": "code",
     "collapsed": false,
     "input": [],
     "language": "python",
     "metadata": {},
     "outputs": []
    }
   ],
   "metadata": {}
  }
 ]
}