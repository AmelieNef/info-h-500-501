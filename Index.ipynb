{
 "metadata": {
  "name": "",
  "signature": "sha256:b98da07faf61fa9bec9c1245340b80ecc08fa871329586cd2946fc20c1e2f6c1"
 },
 "nbformat": 3,
 "nbformat_minor": 0,
 "worksheets": [
  {
   "cells": [
    {
     "cell_type": "heading",
     "level": 1,
     "metadata": {},
     "source": [
      "Introduction to image processing"
     ]
    },
    {
     "cell_type": "markdown",
     "metadata": {},
     "source": [
      "Outline\n",
      "=======\n",
      "\n",
      "1. Image acquisition\n",
      "    1. [vision](Acquisition/vision.ipynb)\n",
      "    1. [sampling](Acquisition/sampling.ipynb)\n",
      "    1. [pyramid](Acquisition/pyramid.ipynb)\n",
      "    1. [color](Acquisition/color.ipynb)\n",
      "    \n",
      "2. Image Information\n",
      "    1. [histogram](Image_information/histogram.ipynb)\n",
      "    1. [entropy](Image_information/entropy.ipynb)\n",
      "    \n",
      "3. Image enhancement\n",
      "    1. [point processing](Enhancement/point_processing.ipynb)\n",
      "    1. [linear filtering](Enhancement/linear_filtering.ipynb)\n",
      "    1. [non-linear filtering](Enhancement/non_linear_filtering.ipynb)\n",
      "\n",
      "4. Edge detection\n",
      "    1. [spatial derivatives](Edge_detection/spatial_derivatives.ipynb)\n",
      "\n",
      "5. Morphomathematics\n",
      "\n",
      "6. Segmentation"
     ]
    },
    {
     "cell_type": "code",
     "collapsed": false,
     "input": [],
     "language": "python",
     "metadata": {},
     "outputs": []
    }
   ],
   "metadata": {}
  }
 ]
}