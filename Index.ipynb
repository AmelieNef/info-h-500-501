{
 "cells": [
  {
   "cell_type": "markdown",
   "metadata": {},
   "source": [
    "# Introduction to image processing"
   ]
  },
  {
   "cell_type": "code",
   "execution_count": 15,
   "metadata": {
    "collapsed": false
   },
   "outputs": [
    {
     "data": {
      "text/html": [
       "<style>\n",
       "div.prompt {display:none}\n",
       "</style>"
      ],
      "text/plain": [
       "<IPython.core.display.HTML object>"
      ]
     },
     "metadata": {},
     "output_type": "display_data"
    }
   ],
   "source": [
    "%%HTML\n",
    "<style>\n",
    "div.prompt {display:none}\n",
    "</style>"
   ]
  },
  {
   "cell_type": "code",
   "execution_count": 16,
   "metadata": {
    "collapsed": false
   },
   "outputs": [],
   "source": [
    "from IPython.display import Markdown, display\n",
    "from helpers import chapters_to_md"
   ]
  },
  {
   "cell_type": "code",
   "execution_count": 17,
   "metadata": {
    "collapsed": false
   },
   "outputs": [
    {
     "data": {
      "text/markdown": [
       "Outline\n",
       "=======\n",
       "0. [Preface](00-Preface/content.ipynb)\n",
       "    0. [Aims](00-Preface/01-Aims.ipynb)\n",
       "    0. [Integration](00-Preface/02-Integration.ipynb)\n",
       "    0. [Get involved](00-Preface/03-Get involved.ipynb)\n",
       "    0. [Bokeh plots](00-Preface/04-Bokeh plots.ipynb)\n",
       "    0. [Practical works](00-Preface/05-Practical works.ipynb)\n",
       "0. [Introduction](01-Introduction/content.ipynb)\n",
       "    0. [Biological vision](01-Introduction/01-Biological vision.ipynb)\n",
       "    0. [Image sensors](01-Introduction/02-Image sensors.ipynb)\n",
       "    0. [Digital image](01-Introduction/03-Digital image.ipynb)\n",
       "0. [Low-level image processing](02-Low-level image processing/content.ipynb)\n",
       "    0. [Point processing](02-Low-level image processing/01-Point processing.ipynb)\n",
       "    0. [Linear filtering](02-Low-level image processing/02-Linear filtering.ipynb)\n",
       "    0. [Non linear filtering](02-Low-level image processing/03-Non linear filtering.ipynb)\n",
       "0. [Basic image analysis](03-Basic image analysis/content.ipynb)\n",
       "0. [Image segmentation](04-Image segmentation/content.ipynb)\n",
       "0. [Morphomathematics](05-Morphomathematics/content.ipynb)\n",
       "0. [Object feature extraction](06-Object feature extraction/content.ipynb)\n",
       "0. [Model-based segmentation](07-Model-based segmentation/content.ipynb)\n",
       "0. [Vision](08-Vision/content.ipynb)\n",
       "0. [Object tracking](09-Object tracking/content.ipynb)\n",
       "0. [Object recognition](10-Object recognition/content.ipynb)\n"
      ],
      "text/plain": [
       "<IPython.core.display.Markdown object>"
      ]
     },
     "metadata": {},
     "output_type": "display_data"
    }
   ],
   "source": [
    "display(Markdown(chapters_to_md()))"
   ]
  },
  {
   "cell_type": "code",
   "execution_count": 18,
   "metadata": {
    "collapsed": false
   },
   "outputs": [
    {
     "data": {
      "image/svg+xml": [
       "<svg height=\"20\" width=\"81\" xmlns=\"http://www.w3.org/2000/svg\"><linearGradient id=\"a\" x2=\"0\" y2=\"100%\"><stop offset=\"0\" stop-color=\"#bbb\" stop-opacity=\".1\"/><stop offset=\"1\" stop-opacity=\".1\"/></linearGradient><rect fill=\"#555\" height=\"20\" rx=\"3\" width=\"81\"/><rect fill=\"#e05d44\" height=\"20\" rx=\"3\" width=\"44\" x=\"37\"/><path d=\"M37 0h4v20h-4z\" fill=\"#e05d44\"/><rect fill=\"url(#a)\" height=\"20\" rx=\"3\" width=\"81\"/><g fill=\"#fff\" font-family=\"DejaVu Sans,Verdana,Geneva,sans-serif\" font-size=\"11\" text-anchor=\"middle\"><text fill=\"#010101\" fill-opacity=\".3\" x=\"19.5\" y=\"15\">build</text><text x=\"19.5\" y=\"14\">build</text><text fill=\"#010101\" fill-opacity=\".3\" x=\"58\" y=\"15\">failing</text><text x=\"58\" y=\"14\">failing</text></g></svg>"
      ],
      "text/plain": [
       "<IPython.core.display.SVG object>"
      ]
     },
     "execution_count": 18,
     "metadata": {},
     "output_type": "execute_result"
    }
   ],
   "source": [
    "from IPython.display import SVG\n",
    "SVG('https://travis-ci.org/odebeir/info-h-500-501.svg?branch=master')"
   ]
  },
  {
   "cell_type": "code",
   "execution_count": 19,
   "metadata": {
    "collapsed": false
   },
   "outputs": [
    {
     "name": "stdout",
     "output_type": "stream",
     "text": [
      "Last updated: 22/07/2015\n"
     ]
    },
    {
     "data": {
      "text/html": [
       "<script>code_show=true; \n",
       "    function code_toggle() {\n",
       "     if (code_show){$('div.input').hide();} else {$('div.input').show();}\n",
       "     code_show = !code_show}\n",
       "    $( document ).ready(code_toggle);</script>\n",
       "    <a href=\"javascript:code_toggle()\">show/hide source code</a>\n",
       "    "
      ],
      "text/plain": [
       "<IPython.core.display.HTML object>"
      ]
     },
     "execution_count": 19,
     "metadata": {},
     "output_type": "execute_result"
    }
   ],
   "source": [
    "%matplotlib inline\n",
    "import time\n",
    "print('Last updated: %s' %time.strftime('%d/%m/%Y'))\n",
    "import sys\n",
    "sys.path.insert(0,'..')\n",
    "from IPython.display import HTML\n",
    "from helpers import show_hide\n",
    "HTML(show_hide)"
   ]
  },
  {
   "cell_type": "code",
   "execution_count": null,
   "metadata": {
    "collapsed": true
   },
   "outputs": [],
   "source": []
  },
  {
   "cell_type": "code",
   "execution_count": null,
   "metadata": {
    "collapsed": true
   },
   "outputs": [],
   "source": []
  }
 ],
 "metadata": {
  "kernelspec": {
   "display_name": "Python 2",
   "language": "python",
   "name": "python2"
  },
  "language_info": {
   "codemirror_mode": {
    "name": "ipython",
    "version": 2
   },
   "file_extension": ".py",
   "mimetype": "text/x-python",
   "name": "python",
   "nbconvert_exporter": "python",
   "pygments_lexer": "ipython2",
   "version": "2.7.10"
  }
 },
 "nbformat": 4,
 "nbformat_minor": 0
}
