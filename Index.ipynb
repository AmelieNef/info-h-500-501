{
 "metadata": {
  "name": "",
  "signature": "sha256:4944dbf9597ff70bdc192dba384fe7d34ef5f4a0e1d6d45694cc7b2418a39017"
 },
 "nbformat": 3,
 "nbformat_minor": 0,
 "worksheets": [
  {
   "cells": [
    {
     "cell_type": "heading",
     "level": 1,
     "metadata": {},
     "source": [
      "Introduction to image processing"
     ]
    },
    {
     "cell_type": "markdown",
     "metadata": {},
     "source": [
      "Outline\n",
      "=======\n",
      "\n",
      "1. Image acquisition\n",
      "    1. [vision](Acquisition/vision.ipynb)\n",
      "    1. [sampling](Acquisition/sampling.ipynb)\n",
      "    1. [pyramid](Acquisition/pyramid.ipynb)\n",
      "    1. [color](Acquisition/color.ipynb)\n",
      "    \n",
      "2. Image Information\n",
      "    1. [histogram](Image_information/histogram.ipynb)\n",
      "    1. [entropy](Image_information/entropy.ipynb)\n",
      "    \n",
      "3. Image enhancement\n",
      "\n",
      "4. Edge detection\n",
      "\n",
      "5. Morphomathematics\n",
      "\n",
      "6. Segmentation"
     ]
    },
    {
     "cell_type": "code",
     "collapsed": false,
     "input": [],
     "language": "python",
     "metadata": {},
     "outputs": []
    }
   ],
   "metadata": {}
  }
 ]
}