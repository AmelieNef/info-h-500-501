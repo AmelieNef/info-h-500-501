{
 "cells": [
  {
   "cell_type": "markdown",
   "metadata": {},
   "source": [
    "Lab 6 - Neural Networks\n",
    "=======\n",
    "\n",
    "In this lab, we will use simple Neural Networks to classify the images from the CIFAR-10 dataset. We will compare our results with those obtained with Decision Trees and Random Forests.\n",
    "\n",
    "Lab objectives\n",
    "----\n",
    "* Classification with neural networks\n",
    "* Influence of hidden layers and of the selected features on the classifier results"
   ]
  },
  {
   "cell_type": "code",
   "execution_count": 6,
   "metadata": {
    "collapsed": false
   },
   "outputs": [
    {
     "name": "stdout",
     "output_type": "stream",
     "text": [
      "Pre-loading training data\n",
      "Pre-loading test data\n"
     ]
    }
   ],
   "source": [
    "import numpy as np\n",
    "import os\n",
    "\n",
    "class CIFAR10:    \n",
    "    def __init__(self, path):\n",
    "        self.path = path\n",
    "        # Pre-load all data\n",
    "        self.train = {}\n",
    "        self.test = {}\n",
    "        print('Pre-loading training data')\n",
    "        self.train['images'] = np.load(os.path.join(path, 'images.npy')).astype('uint8')\n",
    "        self.train['images_gs'] = np.load(os.path.join(path, 'images_gs.npy')).astype('uint8')\n",
    "        self.train['images_hog'] = np.load(os.path.join(path, 'images_hog.npy'))\n",
    "        self.train['images_pca'] = np.load(os.path.join(path, 'images_pca.npy'))\n",
    "        self.train['labels'] = np.load(os.path.join(path, 'labels_.npy')).astype('uint8')\n",
    "        print('Pre-loading test data')\n",
    "        self.test['images'] = np.load(os.path.join(path, 'test_images.npy')).astype('uint8')\n",
    "        self.test['images_gs'] = np.load(os.path.join(path, 'test_images_gs.npy')).astype('uint8')\n",
    "        self.test['images_hog'] = np.load(os.path.join(path, 'test_images_hog.npy'))\n",
    "        self.test['images_pca'] = np.load(os.path.join(path, 'test_images_pca.npy'))\n",
    "        self.test['labels'] = np.load(os.path.join(path, 'test_labels.npy')).astype('uint8')\n",
    "        \n",
    "        self.labels = ['Airplane', 'Bird', 'Horse']\n",
    "\n",
    "from sklearn.metrics import confusion_matrix\n",
    "\n",
    "def evaluate_classifier(clf, test_data, test_labels):\n",
    "    pred = clf.predict(test_data)\n",
    "    C = confusion_matrix(pred, test_labels)\n",
    "    return C.diagonal().sum()*100./C.sum(),C\n",
    "        \n",
    "dataset = CIFAR10('../CIFAR10')"
   ]
  },
  {
   "cell_type": "markdown",
   "metadata": {},
   "source": [
    "We will use the *[Multi-Layer Perceptron](http://scikit-learn.org/stable/modules/generated/sklearn.neural_network.MLPClassifier.html#sklearn.neural_network.MLPClassifier)* implementation from scikit-learn, which is only available since version 0.18. You can check which version of scikit-learn is installed by executing this :"
   ]
  },
  {
   "cell_type": "code",
   "execution_count": 2,
   "metadata": {
    "collapsed": false
   },
   "outputs": [
    {
     "name": "stdout",
     "output_type": "stream",
     "text": [
      "0.19.1\n"
     ]
    }
   ],
   "source": [
    "import sklearn\n",
    "print(sklearn.__version__)"
   ]
  },
  {
   "cell_type": "markdown",
   "metadata": {},
   "source": [
    "If you have version 0.17 or older, please update your scikit-learn installation (for instance, with the command *pip install scikit-learn==0.19.1* in the terminal or Anaconda prompt)"
   ]
  },
  {
   "cell_type": "markdown",
   "metadata": {},
   "source": [
    "1. Build a simple neural network\n",
    "----\n",
    "\n",
    "* Using the [MLPClassifier](http://scikit-learn.org/stable/modules/generated/sklearn.neural_network.MLPClassifier.html) from scikit-learn, create a neural network with a single hidden layer.\n",
    "* Train this network on the CIFAR-10 dataset. Which version of the dataset gives the best results?\n",
    "* Using cross-validation, try to find the best possible parameters."
   ]
  },
  {
   "cell_type": "code",
   "execution_count": 3,
   "metadata": {
    "collapsed": false
   },
   "outputs": [],
   "source": [
    "from sklearn.neural_network import MLPClassifier\n",
    "\n",
    "## -- Your code here -- ##"
   ]
  },
  {
   "cell_type": "code",
   "execution_count": 4,
   "metadata": {
    "collapsed": false
   },
   "outputs": [],
   "source": [
    "from sklearn.model_selection import StratifiedKFold\n",
    "\n",
    "kf = StratifiedKFold(5)\n",
    "\n",
    "for train,test in kf.split(dataset.train['images'], dataset.train['labels']):\n",
    "    train_x = dataset.train['images'][train]\n",
    "    train_y = dataset.train['labels'][train]\n",
    "    \n",
    "    test_x = dataset.train['images'][test]\n",
    "    test_y = dataset.train['labels'][test]"
   ]
  },
  {
   "cell_type": "markdown",
   "metadata": {},
   "source": [
    "2. Add hidden layers to the network.\n",
    "----\n",
    "\n",
    "Try to change the structure of the network by adding hidden layers. Using cross-validation, try to find the best architecture for your network."
   ]
  },
  {
   "cell_type": "code",
   "execution_count": 5,
   "metadata": {
    "collapsed": true
   },
   "outputs": [],
   "source": [
    "## -- Your code here -- ##"
   ]
  }
 ],
 "metadata": {
  "anaconda-cloud": {},
  "kernelspec": {
   "display_name": "Python [conda env:py35]",
   "language": "python",
   "name": "conda-env-py35-py"
  },
  "language_info": {
   "codemirror_mode": {
    "name": "ipython",
    "version": 3
   },
   "file_extension": ".py",
   "mimetype": "text/x-python",
   "name": "python",
   "nbconvert_exporter": "python",
   "pygments_lexer": "ipython3",
   "version": "3.5.2"
  }
 },
 "nbformat": 4,
 "nbformat_minor": 0
}
