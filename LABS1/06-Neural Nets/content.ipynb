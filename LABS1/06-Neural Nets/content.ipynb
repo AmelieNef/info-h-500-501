{
 "cells": [
  {
   "cell_type": "markdown",
   "metadata": {},
   "source": [
    "Lab 6 - Neural Networks\n",
    "=======\n",
    "\n",
    "In this lab, we will use Neural Networks to classify the digits from the MNIST database. We will compare our results with those obtained with Decision Trees and Random Forests.\n",
    "\n",
    "To create our Neural Networks, we will use [the PyBrain library](http://pybrain.org/docs/tutorial/netmodcon.html).\n",
    "\n",
    "Lab objectives\n",
    "----\n",
    "* Classification with neural networks\n",
    "* Influence of hidden layers and of the selected features on the classifier results"
   ]
  },
  {
   "cell_type": "markdown",
   "metadata": {},
   "source": [
    "Install PyBrain :\n",
    "----\n",
    "\n",
    "* Copy the PyBrain directory from the Z:\\INFO-H-501 folder into a local directory\n",
    "* Open a terminal in this directory and run : *python setup.py install*\n",
    "\n",
    "You might have to restart this notebook after installing PyBrain."
   ]
  },
  {
   "cell_type": "code",
   "execution_count": 1,
   "metadata": {
    "collapsed": false
   },
   "outputs": [
    {
     "name": "stdout",
     "output_type": "stream",
     "text": [
      "Extracting MNIST_data\\train-images-idx3-ubyte.gz\n",
      "Extracting MNIST_data\\train-labels-idx1-ubyte.gz\n",
      "Extracting MNIST_data\\t10k-images-idx3-ubyte.gz\n",
      "Extracting MNIST_data\\t10k-labels-idx1-ubyte.gz\n"
     ]
    }
   ],
   "source": [
    "%matplotlib inline\n",
    "from sklearn.datasets import load_digits\n",
    "from matplotlib import pyplot as plt\n",
    "from MNISTData import MNISTData\n",
    "from sklearn.metrics import confusion_matrix\n",
    "import numpy as np\n",
    "\n",
    "mnist = MNISTData(train_dir='MNIST_data', one_hot=True)\n",
    "\n",
    "def evaluate_classifier(clf, test_data, test_labels):\n",
    "    pred = np.array([clf.activate(t) for t in test_data])\n",
    "    C = confusion_matrix(pred.argmax(axis=1), test_labels.argmax(axis=1))\n",
    "    return C.diagonal().sum()*100./C.sum(),C"
   ]
  },
  {
   "cell_type": "markdown",
   "metadata": {},
   "source": [
    "1. Build a simple neural network\n",
    "----\n",
    "\n",
    "The network will have as many input neurons as there are pixels in the MNIST images (784), and as many output neurons as there are classes (10)."
   ]
  },
  {
   "cell_type": "code",
   "execution_count": null,
   "metadata": {
    "collapsed": false
   },
   "outputs": [],
   "source": [
    "from pybrain.datasets import ClassificationDataSet\n",
    "from pybrain.structure.networks.feedforward import FeedForwardNetwork\n",
    "from pybrain.structure.modules import BiasUnit, LinearLayer, SigmoidLayer, SoftmaxLayer\n",
    "from pybrain.structure.connections import FullConnection\n",
    "from pybrain.supervised.trainers import BackpropTrainer\n",
    "from pybrain.utilities import percentError\n",
    "\n",
    "def buildSimpleNetwork(nIn, nOut):\n",
    "    net = # your code here \n",
    "    # ...\n",
    "    # ... #\n",
    "    \n",
    "    return net\n",
    "\n",
    "net = buildSimpleNetwork(784, 10)\n",
    "print net"
   ]
  },
  {
   "cell_type": "markdown",
   "metadata": {},
   "source": [
    "Train this network on the training data, and evaluate its performances using the test data. Refer to the [tutorial](http://pybrain.org/docs/tutorial/fnn.html) for the implementation."
   ]
  },
  {
   "cell_type": "code",
   "execution_count": null,
   "metadata": {
    "collapsed": true
   },
   "outputs": [],
   "source": [
    "# your code here #\n",
    "\n",
    "#dataset = ClassificationDataSet()\n",
    "#dataset.setField('input', training_data)\n",
    "#dataset.setField('target', training_labels)"
   ]
  },
  {
   "cell_type": "markdown",
   "metadata": {},
   "source": [
    "Look at the weights of the network. How did the network learn to represent the different digits ?"
   ]
  },
  {
   "cell_type": "code",
   "execution_count": null,
   "metadata": {
    "collapsed": true
   },
   "outputs": [],
   "source": [
    "params = net.params\n",
    "\n",
    "plt.figure(figsize=(15,10))\n",
    "plt.gray()\n",
    "for i in range(10):\n",
    "    plt.subplot(2,5,i+1)\n",
    "    p = params[784*i:784*(i+1)].reshape((28,28))\n",
    "    plt.imshow(p, interpolation='none')\n",
    "plt.show()"
   ]
  },
  {
   "cell_type": "markdown",
   "metadata": {},
   "source": [
    "2. Add an hidden layer to the network.\n",
    "----\n",
    "\n",
    "Add an hidden layer with 100 neurons to your network. Use cross-validation to find a good learning rate. Evaluate your best network with the test set."
   ]
  },
  {
   "cell_type": "code",
   "execution_count": null,
   "metadata": {
    "collapsed": true
   },
   "outputs": [],
   "source": [
    "def buildNetwork(nIn, nHidden, nOut):\n",
    "    net = # your code here\n",
    "    # ...\n",
    "    # ... #\n",
    "    \n",
    "    return net\n",
    "\n",
    "net = buildNetwork(784, 100, 10)\n",
    "print net\n",
    "\n",
    "# your code here #"
   ]
  }
 ],
 "metadata": {
  "kernelspec": {
   "display_name": "Python 2",
   "language": "python",
   "name": "python2"
  },
  "language_info": {
   "codemirror_mode": {
    "name": "ipython",
    "version": 2
   },
   "file_extension": ".py",
   "mimetype": "text/x-python",
   "name": "python",
   "nbconvert_exporter": "python",
   "pygments_lexer": "ipython2",
   "version": "2.7.11"
  }
 },
 "nbformat": 4,
 "nbformat_minor": 0
}
