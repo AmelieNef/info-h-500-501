{
 "cells": [
  {
   "cell_type": "markdown",
   "metadata": {},
   "source": [
    "# LAB 2 - eigen faces\n",
    "\n",
    "**objectives:**\n",
    "\n",
    "* implement face recognition using eigen faces\n",
    "\n",
    "**help:**\n",
    "\n",
    "* Eigen faces (Wikipedia) : [Eigen faces](http://en.wikipedia.org/wiki/Eigenface)\n"
   ]
  },
  {
   "cell_type": "markdown",
   "metadata": {},
   "source": [
    "## Direct approach\n",
    "\n",
    "1. import all the images are contained into [faces_tp_info_h_501.zip](http://homepages.ulb.ac.be/~odebeir/data/faces_tp_info_h_501.zip)\n",
    "2. write a program that read images and subsample them (e.g. by 5)\n",
    "3. convert 2D image into lines, collect all these lines into one single matrix\n",
    "4. normalize the matrix T by removing mean image\n",
    "5. compute the variance/covariance matrix\n",
    "$$ \\mathbf{S} = \\mathbf{T^TT}$$\n",
    "6. compute the eigen values of the matrix\n",
    "$$\\mathbf{Sv}_i = \\mathbf{T^T}\\mathbf{Tv}_i = \\lambda_i \\mathbf{v}_i$$"
   ]
  },
  {
   "cell_type": "code",
   "execution_count": 4,
   "metadata": {
    "collapsed": false
   },
   "outputs": [
    {
     "name": "stdout",
     "output_type": "stream",
     "text": [
      "[ 1.  2.  3.]\n"
     ]
    },
    {
     "data": {
      "text/plain": [
       "array([[ 1.,  0.,  0.],\n",
       "       [ 0.,  1.,  0.],\n",
       "       [ 0.,  0.,  1.]])"
      ]
     },
     "execution_count": 4,
     "metadata": {},
     "output_type": "execute_result"
    }
   ],
   "source": [
    "#exemple of eigen value extraction\n",
    "import numpy as np\n",
    "from numpy import linalg as LA\n",
    "w,v = LA.eig(np.diag((1, 2, 3)))\n",
    "print w;v"
   ]
  },
  {
   "cell_type": "markdown",
   "metadata": {},
   "source": [
    "## Compression\n",
    "1. construct images using only the first N eigen faces (e.g. N=20)\n",
    "2. compare (visually) reconstructed images with original images"
   ]
  },
  {
   "cell_type": "markdown",
   "metadata": {},
   "source": [
    "## Indirect approach\n",
    "1. for the indirect approach compute the eigen values of $S$ such that:\n",
    "$$\\mathbf{Sv}_i = \\mathbf{T^T}\\mathbf{Tv}_i = \\lambda_i \\mathbf{v}_i$$\n",
    "\n",
    "first compute the eigen value for $\\mathbf{TT^T}$\n",
    "\n",
    "$$\\mathbf{TT^T}\\mathbf{u}_i = \\lambda_i \\mathbf{u}_i$$\n",
    "\n",
    "$$\\mathbf{T^T}\\mathbf{TT}^T\\mathbf{u}_i = \\lambda_i\\mathbf{T^T}\\mathbf{u}_i$$\n",
    "\n",
    "$$\\mathbf{v}_i = \\mathbf{T^T} \\mathbf{u}_i$$\n",
    "\n",
    "if $u$ are eigenvectors of $TT’$ then $v$ are eigenvectors of $S$.\n",
    "\n",
    "2. reconstruct images using only the first N eigen faces (e.g. N=20)\n",
    "3. compare (visually) reconstructed images with original images\n",
    "4. use the indirect approach with more resolution"
   ]
  },
  {
   "cell_type": "markdown",
   "metadata": {},
   "source": [
    "## Face recognition\n",
    "1. using the simplified vector space (e.g. 20 first eigen faces), compute the distance between one face and the others using euclidian distance\n",
    "\n",
    "2. for a subset of the image of the database find the 4 closest match"
   ]
  },
  {
   "cell_type": "code",
   "execution_count": null,
   "metadata": {
    "collapsed": true
   },
   "outputs": [],
   "source": []
  }
 ],
 "metadata": {
  "kernelspec": {
   "display_name": "Python 2",
   "language": "python",
   "name": "python2"
  },
  "language_info": {
   "codemirror_mode": {
    "name": "ipython",
    "version": 2
   },
   "file_extension": ".py",
   "mimetype": "text/x-python",
   "name": "python",
   "nbconvert_exporter": "python",
   "pygments_lexer": "ipython2",
   "version": "2.7.11"
  }
 },
 "nbformat": 4,
 "nbformat_minor": 0
}
