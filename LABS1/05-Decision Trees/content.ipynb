{
 "cells": [
  {
   "cell_type": "markdown",
   "metadata": {},
   "source": [
    "LAB 5 - Decision Trees\n",
    "=========================\n",
    "\n",
    "In this lab, as in the next two, we will explore different classification methods, and how we can compare their results. For those three labs, we will use the MNIST database of hand-written digits. In this lab, we will use decision trees and random forest methods. In Lab 6, we will use neural networks, and in Lab 7 Support Vector Machines.\n",
    "\n",
    "Important note\n",
    "---------------\n",
    "\n",
    "For this lab and the next two, students must write a report (one report for the three labs) which will be used during the oral exam. This report should highlight the different methods used during the labs, but also how you validated each method and compared their results.\n",
    "\n",
    "Lab objectives\n",
    "---------------\n",
    "\n",
    "* Classification with decision trees and random forests.\n",
    "* Cross-validation and evaluation."
   ]
  },
  {
   "cell_type": "markdown",
   "metadata": {},
   "source": [
    "The Data\n",
    "----\n",
    "\n",
    "The dataset is the MNIST database of handwritten digits, from LeCun et al : http://yann.lecun.com/exdb/mnist/\n",
    "It contains a training set of 60 000 examples, and a test set of 10 000 examples.\n",
    "\n",
    "The dataset is split into a training set (for learning and cross-validation) and a test set (for evaluation of the model). Each 28x28 pixels image is flattened into a 784-length vector ('images') and the correct label is encoded in a 10-length vector ('labels'). The following piece of code shows a sample of the training set with the correct label."
   ]
  },
  {
   "cell_type": "code",
   "execution_count": null,
   "metadata": {
    "collapsed": false
   },
   "outputs": [],
   "source": [
    "%matplotlib inline\n",
    "from sklearn.datasets import load_digits\n",
    "from matplotlib import pyplot as plt\n",
    "from MNISTData import MNISTData\n",
    "\n",
    "mnist = MNISTData(train_dir='MNIST_data', one_hot=True)\n",
    "\n",
    "plt.gray()\n",
    "for i in range(9):\n",
    "    plt.subplot(3,3,i+1)\n",
    "    plt.imshow(mnist.train['images'][i].reshape((28,28)))\n",
    "    plt.title(mnist.train['labels'][i].argmax())\n",
    "    plt.axis('off')\n",
    "plt.show()"
   ]
  },
  {
   "cell_type": "markdown",
   "metadata": {},
   "source": [
    "1. Decision Trees\n",
    "----"
   ]
  },
  {
   "cell_type": "markdown",
   "metadata": {},
   "source": [
    "Create a simple Decision Tree classifier using scikit-learn and train it on the MNIST dataset. Use it to predict the classes of the test dataset. Evaluate the performance of the classifier.\n",
    "\n",
    "http://scikit-learn.org/stable/modules/generated/sklearn.tree.DecisionTreeClassifier.html"
   ]
  },
  {
   "cell_type": "code",
   "execution_count": null,
   "metadata": {
    "collapsed": false
   },
   "outputs": [],
   "source": [
    "from sklearn import tree\n",
    "\n",
    "clf = tree.DecisionTreeClassifier()\n",
    "# --- your code here --- #"
   ]
  },
  {
   "cell_type": "markdown",
   "metadata": {},
   "source": [
    "**Use cross-validation** to improve the results of your classifier by changing its parameters."
   ]
  },
  {
   "cell_type": "code",
   "execution_count": null,
   "metadata": {
    "collapsed": false
   },
   "outputs": [],
   "source": [
    "import numpy as np\n",
    "\n",
    "# Randomly split the data in n pieces for cross-validation\n",
    "def randomsplit_data(x, y, n):\n",
    "    l = x.shape[0]\n",
    "    index = np.arange(0,l)\n",
    "    np.random.shuffle(index)\n",
    "    \n",
    "    dataset = []\n",
    "    for i in range(n):\n",
    "        imin = i*l/n\n",
    "        imax = (i+1)*l/n\n",
    "        dataset.append({'x': x[index[imin:imax]], 'y': y[index[imin:imax]]})\n",
    "    \n",
    "    return dataset\n",
    "\n",
    "# Example use : split the data in 5\n",
    "dataset = randomsplit_data(mnist.train['images'], mnist.train['labels'], 5)\n",
    "\n",
    "\n",
    "# --- your code here --- #"
   ]
  },
  {
   "cell_type": "markdown",
   "metadata": {},
   "source": [
    "**Evaluate your best classifier** on the test set. How can you compare it to the classifier with default parameters ?"
   ]
  },
  {
   "cell_type": "code",
   "execution_count": null,
   "metadata": {
    "collapsed": true
   },
   "outputs": [],
   "source": [
    "# --- your code here --- #"
   ]
  },
  {
   "cell_type": "markdown",
   "metadata": {},
   "source": [
    "2. Random Forests\n",
    "----\n",
    "\n",
    "Random Forest classifiers use multiple decision trees trained on sub-samples of the dataset, averaging the results so as to reduce over-fitting. \n",
    "\n",
    "Use scikit-learn to **create Random Forest classifiers** on the MNIST data. **Use cross-validation to test different parameters**, and **evaluate your best classifier on the test set**. Compare the results with the previous classifiers.\n",
    "\n",
    "http://scikit-learn.org/stable/modules/generated/sklearn.ensemble.RandomForestClassifier.html"
   ]
  },
  {
   "cell_type": "code",
   "execution_count": null,
   "metadata": {
    "collapsed": false
   },
   "outputs": [],
   "source": [
    "from sklearn import ensemble\n",
    "\n",
    "clf = ensemble.RandomForestClassifier()\n",
    "# --- your code here --- #"
   ]
  }
 ],
 "metadata": {
  "kernelspec": {
   "display_name": "Python 2",
   "language": "python",
   "name": "python2"
  },
  "language_info": {
   "codemirror_mode": {
    "name": "ipython",
    "version": 2
   },
   "file_extension": ".py",
   "mimetype": "text/x-python",
   "name": "python",
   "nbconvert_exporter": "python",
   "pygments_lexer": "ipython2",
   "version": "2.7.11"
  }
 },
 "nbformat": 4,
 "nbformat_minor": 0
}
