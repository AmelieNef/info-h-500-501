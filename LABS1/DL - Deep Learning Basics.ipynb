{
 "cells": [
  {
   "cell_type": "markdown",
   "metadata": {},
   "source": [
    "# Deep Learning Basics\n",
    "\n",
    "**Objectives**\n",
    "* Use TensorFlow to create simple network architectures\n",
    "* Understand the basics of creating a Deep Learning solution to a problem "
   ]
  },
  {
   "cell_type": "markdown",
   "metadata": {},
   "source": [
    "## Dataset\n",
    "\n",
    "We will use the \"[OCR dataset](http://ai.stanford.edu/~btaskar/ocr/)\" collected by the MIT Spoken Language System Groups, which contains handwritten letters. For ease of use, the data has already been put into Numpy arrays and can be loaded directly into the Notebook or any Python script from the \"letters_X.npy\" and \"letters_Y.npy\" files.\n",
    "\n",
    "The dataset contains 52152 letters. The letters_X.npy file contains the 16x8 pixels images (flattened to a 128-size vector), and the letters_Y.npy file contains the supervision, with for each letter a 26-size binary vector. The letter \"A\" would be represented by a \"1\" at position 0 in the vector ([1 0 0 0 ... 0]), whereas the letter \"Z\" would be represented by a \"1\" at position 25 ([0 0 0 ... 0 1]). The following code loads the 64 first letters in the dataset and displays the images and supervision."
   ]
  },
  {
   "cell_type": "code",
   "execution_count": 2,
   "metadata": {},
   "outputs": [
    {
     "data": {
      "image/png": "[encoded data removed]",
      "text/plain": [
       "<matplotlib.figure.Figure at 0x1bfb729ba20>"
      ]
     },
     "metadata": {},
     "output_type": "display_data"
    }
   ],
   "source": [
    "import numpy as np\n",
    "from matplotlib import pyplot as plt\n",
    "%matplotlib inline\n",
    "\n",
    "# Load dataset\n",
    "letters_X = np.load('letters_X.npy')\n",
    "letters_Y = np.load('letters_Y.npy')\n",
    "imsize = (16,8)\n",
    "\n",
    "plt.figure(figsize=(10,10))\n",
    "for i in range(64):\n",
    "    plt.subplot(8,8,i+1)\n",
    "    plt.imshow(letters_X[i].reshape(imsize), cmap=plt.cm.gray)\n",
    "    plt.title(chr(97+letters_Y[i].argmax()))\n",
    "    plt.axis('off')\n",
    "plt.show()"
   ]
  },
  {
   "cell_type": "markdown",
   "metadata": {},
   "source": [
    "## Creating training and test sets\n",
    "\n",
    "Split this dataset into a **training set**, a **validation set** and a **test set**. \n",
    "\n",
    "How can you make sure that they all share the same prior probability distribution ?"
   ]
  },
  {
   "cell_type": "code",
   "execution_count": 3,
   "metadata": {
    "collapsed": true
   },
   "outputs": [],
   "source": [
    "\n",
    "## -- Your code here -- ##\n"
   ]
  },
  {
   "cell_type": "markdown",
   "metadata": {},
   "source": [
    "## Creating a Deep Neural Network with TensorFlow : a fake example\n",
    "\n",
    "[TensorFlow](https://www.tensorflow.org/) is an \"open source machine learning framework\". It contains many operations which allow us to build, train and run Deep Neural Networks and to take full advantage of GPU acceleration.\n",
    "\n",
    "The process of creating a neural network with TensorFlow contains different steps :\n",
    "\n",
    "1. Creating the \"Network Graph\"\n",
    "2. Defining the cost function and the optimizer\n",
    "3. Training the network on the training set\n",
    "4. Evaluating the network on the test"
   ]
  },
  {
   "cell_type": "markdown",
   "metadata": {},
   "source": [
    "### Creating the \"Network Graph\"\n",
    "\n",
    "The Network Graph contains all the operations that will be used for learning and in production. The network is built by \"layers\", connecting the output of an operation to the input of the next one. Let's use a simple example:"
   ]
  },
  {
   "cell_type": "code",
   "execution_count": 4,
   "metadata": {},
   "outputs": [
    {
     "name": "stdout",
     "output_type": "stream",
     "text": [
      "Tensor(\"Const:0\", shape=(), dtype=int32) Tensor(\"Const_1:0\", shape=(), dtype=int32) Tensor(\"Add:0\", shape=(), dtype=int32)\n"
     ]
    }
   ],
   "source": [
    "import tensorflow as tf\n",
    "\n",
    "# Creating two \"inputs\"\n",
    "a = tf.constant(1)\n",
    "b = tf.constant(2)\n",
    "\n",
    "# Creating an operation\n",
    "c = tf.add(a, b)\n",
    "\n",
    "print(a,b,c)"
   ]
  },
  {
   "cell_type": "markdown",
   "metadata": {},
   "source": [
    "An important thing to note is that, when building the graph, none of those operations are actually evaluated. We have just defined them. To execute graph operations, we have to define a session, and to evaluate the operation within the session :"
   ]
  },
  {
   "cell_type": "code",
   "execution_count": 5,
   "metadata": {},
   "outputs": [
    {
     "name": "stdout",
     "output_type": "stream",
     "text": [
      "3\n"
     ]
    }
   ],
   "source": [
    "sess = tf.Session()\n",
    "\n",
    "c_evaluated = c.eval(session=sess)\n",
    "print(c_evaluated)"
   ]
  },
  {
   "cell_type": "markdown",
   "metadata": {},
   "source": [
    "An interesting type of element in the graph is the \"placeholder\". A placeholder can be defined as an object of a certain type and size, whose value will be given only during the evaluation. Let's reset the graph and recreate it with placeholders instead of the constant:"
   ]
  },
  {
   "cell_type": "code",
   "execution_count": 6,
   "metadata": {},
   "outputs": [
    {
     "name": "stdout",
     "output_type": "stream",
     "text": [
      "Tensor(\"Placeholder:0\", shape=(), dtype=float32) Tensor(\"Placeholder_1:0\", shape=(), dtype=float32) Tensor(\"Add:0\", shape=(), dtype=float32)\n"
     ]
    }
   ],
   "source": [
    "tf.reset_default_graph() # If we don't do that, we will keep adding new operations to the graph !\n",
    "\n",
    "# Creating placeholder\n",
    "a = tf.placeholder(tf.float32, shape=()) # Use shape = () if the object is a scalar\n",
    "b = tf.placeholder(tf.float32, shape=())\n",
    "\n",
    "# Creating opeartion\n",
    "c = tf.add(a,b)\n",
    "\n",
    "print(a,b,c)"
   ]
  },
  {
   "cell_type": "markdown",
   "metadata": {},
   "source": [
    "If we try to simply evaluate `c`, we will get an error: \n",
    "> \"You must feed a value for placeholder tensor\""
   ]
  },
  {
   "cell_type": "code",
   "execution_count": 7,
   "metadata": {},
   "outputs": [
    {
     "ename": "InvalidArgumentError",
     "evalue": "You must feed a value for placeholder tensor 'Placeholder' with dtype float\n\t [[Node: Placeholder = Placeholder[dtype=DT_FLOAT, shape=[], _device=\"/job:localhost/replica:0/task:0/device:GPU:0\"]()]]\n\t [[Node: Add/_1 = _Recv[client_terminated=false, recv_device=\"/job:localhost/replica:0/task:0/device:CPU:0\", send_device=\"/job:localhost/replica:0/task:0/device:GPU:0\", send_device_incarnation=1, tensor_name=\"edge_7_Add\", tensor_type=DT_FLOAT, _device=\"/job:localhost/replica:0/task:0/device:CPU:0\"]()]]\n\nCaused by op 'Placeholder', defined at:\n  File \"C:\\Users\\Administrateur\\Anaconda2\\envs\\tf14\\lib\\runpy.py\", line 193, in _run_module_as_main\n    \"__main__\", mod_spec)\n  File \"C:\\Users\\Administrateur\\Anaconda2\\envs\\tf14\\lib\\runpy.py\", line 85, in _run_code\n    exec(code, run_globals)\n  File \"C:\\Users\\Administrateur\\Anaconda2\\envs\\tf14\\lib\\site-packages\\ipykernel_launcher.py\", line 16, in <module>\n    app.launch_new_instance()\n  File \"C:\\Users\\Administrateur\\Anaconda2\\envs\\tf14\\lib\\site-packages\\traitlets\\config\\application.py\", line 658, in launch_instance\n    app.start()\n  File \"C:\\Users\\Administrateur\\Anaconda2\\envs\\tf14\\lib\\site-packages\\ipykernel\\kernelapp.py\", line 477, in start\n    ioloop.IOLoop.instance().start()\n  File \"C:\\Users\\Administrateur\\Anaconda2\\envs\\tf14\\lib\\site-packages\\zmq\\eventloop\\ioloop.py\", line 177, in start\n    super(ZMQIOLoop, self).start()\n  File \"C:\\Users\\Administrateur\\Anaconda2\\envs\\tf14\\lib\\site-packages\\tornado\\ioloop.py\", line 888, in start\n    handler_func(fd_obj, events)\n  File \"C:\\Users\\Administrateur\\Anaconda2\\envs\\tf14\\lib\\site-packages\\tornado\\stack_context.py\", line 277, in null_wrapper\n    return fn(*args, **kwargs)\n  File \"C:\\Users\\Administrateur\\Anaconda2\\envs\\tf14\\lib\\site-packages\\zmq\\eventloop\\zmqstream.py\", line 440, in _handle_events\n    self._handle_recv()\n  File \"C:\\Users\\Administrateur\\Anaconda2\\envs\\tf14\\lib\\site-packages\\zmq\\eventloop\\zmqstream.py\", line 472, in _handle_recv\n    self._run_callback(callback, msg)\n  File \"C:\\Users\\Administrateur\\Anaconda2\\envs\\tf14\\lib\\site-packages\\zmq\\eventloop\\zmqstream.py\", line 414, in _run_callback\n    callback(*args, **kwargs)\n  File \"C:\\Users\\Administrateur\\Anaconda2\\envs\\tf14\\lib\\site-packages\\tornado\\stack_context.py\", line 277, in null_wrapper\n    return fn(*args, **kwargs)\n  File \"C:\\Users\\Administrateur\\Anaconda2\\envs\\tf14\\lib\\site-packages\\ipykernel\\kernelbase.py\", line 283, in dispatcher\n    return self.dispatch_shell(stream, msg)\n  File \"C:\\Users\\Administrateur\\Anaconda2\\envs\\tf14\\lib\\site-packages\\ipykernel\\kernelbase.py\", line 235, in dispatch_shell\n    handler(stream, idents, msg)\n  File \"C:\\Users\\Administrateur\\Anaconda2\\envs\\tf14\\lib\\site-packages\\ipykernel\\kernelbase.py\", line 399, in execute_request\n    user_expressions, allow_stdin)\n  File \"C:\\Users\\Administrateur\\Anaconda2\\envs\\tf14\\lib\\site-packages\\ipykernel\\ipkernel.py\", line 196, in do_execute\n    res = shell.run_cell(code, store_history=store_history, silent=silent)\n  File \"C:\\Users\\Administrateur\\Anaconda2\\envs\\tf14\\lib\\site-packages\\ipykernel\\zmqshell.py\", line 533, in run_cell\n    return super(ZMQInteractiveShell, self).run_cell(*args, **kwargs)\n  File \"C:\\Users\\Administrateur\\Anaconda2\\envs\\tf14\\lib\\site-packages\\IPython\\core\\interactiveshell.py\", line 2698, in run_cell\n    interactivity=interactivity, compiler=compiler, result=result)\n  File \"C:\\Users\\Administrateur\\Anaconda2\\envs\\tf14\\lib\\site-packages\\IPython\\core\\interactiveshell.py\", line 2802, in run_ast_nodes\n    if self.run_code(code, result):\n  File \"C:\\Users\\Administrateur\\Anaconda2\\envs\\tf14\\lib\\site-packages\\IPython\\core\\interactiveshell.py\", line 2862, in run_code\n    exec(code_obj, self.user_global_ns, self.user_ns)\n  File \"<ipython-input-6-310793b4603c>\", line 4, in <module>\n    a = tf.placeholder(tf.float32, shape=()) # Use shape = () if the object is a scalar\n  File \"C:\\Users\\Administrateur\\Anaconda2\\envs\\tf14\\lib\\site-packages\\tensorflow\\python\\ops\\array_ops.py\", line 1599, in placeholder\n    return gen_array_ops._placeholder(dtype=dtype, shape=shape, name=name)\n  File \"C:\\Users\\Administrateur\\Anaconda2\\envs\\tf14\\lib\\site-packages\\tensorflow\\python\\ops\\gen_array_ops.py\", line 3090, in _placeholder\n    \"Placeholder\", dtype=dtype, shape=shape, name=name)\n  File \"C:\\Users\\Administrateur\\Anaconda2\\envs\\tf14\\lib\\site-packages\\tensorflow\\python\\framework\\op_def_library.py\", line 787, in _apply_op_helper\n    op_def=op_def)\n  File \"C:\\Users\\Administrateur\\Anaconda2\\envs\\tf14\\lib\\site-packages\\tensorflow\\python\\framework\\ops.py\", line 2956, in create_op\n    op_def=op_def)\n  File \"C:\\Users\\Administrateur\\Anaconda2\\envs\\tf14\\lib\\site-packages\\tensorflow\\python\\framework\\ops.py\", line 1470, in __init__\n    self._traceback = self._graph._extract_stack()  # pylint: disable=protected-access\n\nInvalidArgumentError (see above for traceback): You must feed a value for placeholder tensor 'Placeholder' with dtype float\n\t [[Node: Placeholder = Placeholder[dtype=DT_FLOAT, shape=[], _device=\"/job:localhost/replica:0/task:0/device:GPU:0\"]()]]\n\t [[Node: Add/_1 = _Recv[client_terminated=false, recv_device=\"/job:localhost/replica:0/task:0/device:CPU:0\", send_device=\"/job:localhost/replica:0/task:0/device:GPU:0\", send_device_incarnation=1, tensor_name=\"edge_7_Add\", tensor_type=DT_FLOAT, _device=\"/job:localhost/replica:0/task:0/device:CPU:0\"]()]]\n",
     "output_type": "error",
     "traceback": [
      "\u001b[1;31m---------------------------------------------------------------------------\u001b[0m",
      "\u001b[1;31mInvalidArgumentError\u001b[0m                      Traceback (most recent call last)",
      "\u001b[1;32m~\\Anaconda2\\envs\\tf14\\lib\\site-packages\\tensorflow\\python\\client\\session.py\u001b[0m in \u001b[0;36m_do_call\u001b[1;34m(self, fn, *args)\u001b[0m\n\u001b[0;32m   1322\u001b[0m     \u001b[1;32mtry\u001b[0m\u001b[1;33m:\u001b[0m\u001b[1;33m\u001b[0m\u001b[0m\n\u001b[1;32m-> 1323\u001b[1;33m       \u001b[1;32mreturn\u001b[0m \u001b[0mfn\u001b[0m\u001b[1;33m(\u001b[0m\u001b[1;33m*\u001b[0m\u001b[0margs\u001b[0m\u001b[1;33m)\u001b[0m\u001b[1;33m\u001b[0m\u001b[0m\n\u001b[0m\u001b[0;32m   1324\u001b[0m     \u001b[1;32mexcept\u001b[0m \u001b[0merrors\u001b[0m\u001b[1;33m.\u001b[0m\u001b[0mOpError\u001b[0m \u001b[1;32mas\u001b[0m \u001b[0me\u001b[0m\u001b[1;33m:\u001b[0m\u001b[1;33m\u001b[0m\u001b[0m\n",
      "\u001b[1;32m~\\Anaconda2\\envs\\tf14\\lib\\site-packages\\tensorflow\\python\\client\\session.py\u001b[0m in \u001b[0;36m_run_fn\u001b[1;34m(session, feed_dict, fetch_list, target_list, options, run_metadata)\u001b[0m\n\u001b[0;32m   1301\u001b[0m                                    \u001b[0mfeed_dict\u001b[0m\u001b[1;33m,\u001b[0m \u001b[0mfetch_list\u001b[0m\u001b[1;33m,\u001b[0m \u001b[0mtarget_list\u001b[0m\u001b[1;33m,\u001b[0m\u001b[1;33m\u001b[0m\u001b[0m\n\u001b[1;32m-> 1302\u001b[1;33m                                    status, run_metadata)\n\u001b[0m\u001b[0;32m   1303\u001b[0m \u001b[1;33m\u001b[0m\u001b[0m\n",
      "\u001b[1;32m~\\Anaconda2\\envs\\tf14\\lib\\site-packages\\tensorflow\\python\\framework\\errors_impl.py\u001b[0m in \u001b[0;36m__exit__\u001b[1;34m(self, type_arg, value_arg, traceback_arg)\u001b[0m\n\u001b[0;32m    472\u001b[0m             \u001b[0mcompat\u001b[0m\u001b[1;33m.\u001b[0m\u001b[0mas_text\u001b[0m\u001b[1;33m(\u001b[0m\u001b[0mc_api\u001b[0m\u001b[1;33m.\u001b[0m\u001b[0mTF_Message\u001b[0m\u001b[1;33m(\u001b[0m\u001b[0mself\u001b[0m\u001b[1;33m.\u001b[0m\u001b[0mstatus\u001b[0m\u001b[1;33m.\u001b[0m\u001b[0mstatus\u001b[0m\u001b[1;33m)\u001b[0m\u001b[1;33m)\u001b[0m\u001b[1;33m,\u001b[0m\u001b[1;33m\u001b[0m\u001b[0m\n\u001b[1;32m--> 473\u001b[1;33m             c_api.TF_GetCode(self.status.status))\n\u001b[0m\u001b[0;32m    474\u001b[0m     \u001b[1;31m# Delete the underlying status object from memory otherwise it stays alive\u001b[0m\u001b[1;33m\u001b[0m\u001b[1;33m\u001b[0m\u001b[0m\n",
      "\u001b[1;31mInvalidArgumentError\u001b[0m: You must feed a value for placeholder tensor 'Placeholder' with dtype float\n\t [[Node: Placeholder = Placeholder[dtype=DT_FLOAT, shape=[], _device=\"/job:localhost/replica:0/task:0/device:GPU:0\"]()]]\n\t [[Node: Add/_1 = _Recv[client_terminated=false, recv_device=\"/job:localhost/replica:0/task:0/device:CPU:0\", send_device=\"/job:localhost/replica:0/task:0/device:GPU:0\", send_device_incarnation=1, tensor_name=\"edge_7_Add\", tensor_type=DT_FLOAT, _device=\"/job:localhost/replica:0/task:0/device:CPU:0\"]()]]",
      "\nDuring handling of the above exception, another exception occurred:\n",
      "\u001b[1;31mInvalidArgumentError\u001b[0m                      Traceback (most recent call last)",
      "\u001b[1;32m<ipython-input-7-d464cb7cbf18>\u001b[0m in \u001b[0;36m<module>\u001b[1;34m()\u001b[0m\n\u001b[0;32m      1\u001b[0m \u001b[0msess\u001b[0m \u001b[1;33m=\u001b[0m \u001b[0mtf\u001b[0m\u001b[1;33m.\u001b[0m\u001b[0mSession\u001b[0m\u001b[1;33m(\u001b[0m\u001b[1;33m)\u001b[0m\u001b[1;33m\u001b[0m\u001b[0m\n\u001b[0;32m      2\u001b[0m \u001b[1;33m\u001b[0m\u001b[0m\n\u001b[1;32m----> 3\u001b[1;33m \u001b[0mprint\u001b[0m\u001b[1;33m(\u001b[0m\u001b[0mc\u001b[0m\u001b[1;33m.\u001b[0m\u001b[0meval\u001b[0m\u001b[1;33m(\u001b[0m\u001b[0msession\u001b[0m\u001b[1;33m=\u001b[0m\u001b[0msess\u001b[0m\u001b[1;33m)\u001b[0m\u001b[1;33m)\u001b[0m\u001b[1;33m\u001b[0m\u001b[0m\n\u001b[0m",
      "\u001b[1;32m~\\Anaconda2\\envs\\tf14\\lib\\site-packages\\tensorflow\\python\\framework\\ops.py\u001b[0m in \u001b[0;36meval\u001b[1;34m(self, feed_dict, session)\u001b[0m\n\u001b[0;32m    568\u001b[0m \u001b[1;33m\u001b[0m\u001b[0m\n\u001b[0;32m    569\u001b[0m     \"\"\"\n\u001b[1;32m--> 570\u001b[1;33m     \u001b[1;32mreturn\u001b[0m \u001b[0m_eval_using_default_session\u001b[0m\u001b[1;33m(\u001b[0m\u001b[0mself\u001b[0m\u001b[1;33m,\u001b[0m \u001b[0mfeed_dict\u001b[0m\u001b[1;33m,\u001b[0m \u001b[0mself\u001b[0m\u001b[1;33m.\u001b[0m\u001b[0mgraph\u001b[0m\u001b[1;33m,\u001b[0m \u001b[0msession\u001b[0m\u001b[1;33m)\u001b[0m\u001b[1;33m\u001b[0m\u001b[0m\n\u001b[0m\u001b[0;32m    571\u001b[0m \u001b[1;33m\u001b[0m\u001b[0m\n\u001b[0;32m    572\u001b[0m   \u001b[1;32mdef\u001b[0m \u001b[0m_dup\u001b[0m\u001b[1;33m(\u001b[0m\u001b[0mself\u001b[0m\u001b[1;33m)\u001b[0m\u001b[1;33m:\u001b[0m\u001b[1;33m\u001b[0m\u001b[0m\n",
      "\u001b[1;32m~\\Anaconda2\\envs\\tf14\\lib\\site-packages\\tensorflow\\python\\framework\\ops.py\u001b[0m in \u001b[0;36m_eval_using_default_session\u001b[1;34m(tensors, feed_dict, graph, session)\u001b[0m\n\u001b[0;32m   4453\u001b[0m                        \u001b[1;34m\"the tensor's graph is different from the session's \"\u001b[0m\u001b[1;33m\u001b[0m\u001b[0m\n\u001b[0;32m   4454\u001b[0m                        \"graph.\")\n\u001b[1;32m-> 4455\u001b[1;33m   \u001b[1;32mreturn\u001b[0m \u001b[0msession\u001b[0m\u001b[1;33m.\u001b[0m\u001b[0mrun\u001b[0m\u001b[1;33m(\u001b[0m\u001b[0mtensors\u001b[0m\u001b[1;33m,\u001b[0m \u001b[0mfeed_dict\u001b[0m\u001b[1;33m)\u001b[0m\u001b[1;33m\u001b[0m\u001b[0m\n\u001b[0m\u001b[0;32m   4456\u001b[0m \u001b[1;33m\u001b[0m\u001b[0m\n\u001b[0;32m   4457\u001b[0m \u001b[1;33m\u001b[0m\u001b[0m\n",
      "\u001b[1;32m~\\Anaconda2\\envs\\tf14\\lib\\site-packages\\tensorflow\\python\\client\\session.py\u001b[0m in \u001b[0;36mrun\u001b[1;34m(self, fetches, feed_dict, options, run_metadata)\u001b[0m\n\u001b[0;32m    887\u001b[0m     \u001b[1;32mtry\u001b[0m\u001b[1;33m:\u001b[0m\u001b[1;33m\u001b[0m\u001b[0m\n\u001b[0;32m    888\u001b[0m       result = self._run(None, fetches, feed_dict, options_ptr,\n\u001b[1;32m--> 889\u001b[1;33m                          run_metadata_ptr)\n\u001b[0m\u001b[0;32m    890\u001b[0m       \u001b[1;32mif\u001b[0m \u001b[0mrun_metadata\u001b[0m\u001b[1;33m:\u001b[0m\u001b[1;33m\u001b[0m\u001b[0m\n\u001b[0;32m    891\u001b[0m         \u001b[0mproto_data\u001b[0m \u001b[1;33m=\u001b[0m \u001b[0mtf_session\u001b[0m\u001b[1;33m.\u001b[0m\u001b[0mTF_GetBuffer\u001b[0m\u001b[1;33m(\u001b[0m\u001b[0mrun_metadata_ptr\u001b[0m\u001b[1;33m)\u001b[0m\u001b[1;33m\u001b[0m\u001b[0m\n",
      "\u001b[1;32m~\\Anaconda2\\envs\\tf14\\lib\\site-packages\\tensorflow\\python\\client\\session.py\u001b[0m in \u001b[0;36m_run\u001b[1;34m(self, handle, fetches, feed_dict, options, run_metadata)\u001b[0m\n\u001b[0;32m   1118\u001b[0m     \u001b[1;32mif\u001b[0m \u001b[0mfinal_fetches\u001b[0m \u001b[1;32mor\u001b[0m \u001b[0mfinal_targets\u001b[0m \u001b[1;32mor\u001b[0m \u001b[1;33m(\u001b[0m\u001b[0mhandle\u001b[0m \u001b[1;32mand\u001b[0m \u001b[0mfeed_dict_tensor\u001b[0m\u001b[1;33m)\u001b[0m\u001b[1;33m:\u001b[0m\u001b[1;33m\u001b[0m\u001b[0m\n\u001b[0;32m   1119\u001b[0m       results = self._do_run(handle, final_targets, final_fetches,\n\u001b[1;32m-> 1120\u001b[1;33m                              feed_dict_tensor, options, run_metadata)\n\u001b[0m\u001b[0;32m   1121\u001b[0m     \u001b[1;32melse\u001b[0m\u001b[1;33m:\u001b[0m\u001b[1;33m\u001b[0m\u001b[0m\n\u001b[0;32m   1122\u001b[0m       \u001b[0mresults\u001b[0m \u001b[1;33m=\u001b[0m \u001b[1;33m[\u001b[0m\u001b[1;33m]\u001b[0m\u001b[1;33m\u001b[0m\u001b[0m\n",
      "\u001b[1;32m~\\Anaconda2\\envs\\tf14\\lib\\site-packages\\tensorflow\\python\\client\\session.py\u001b[0m in \u001b[0;36m_do_run\u001b[1;34m(self, handle, target_list, fetch_list, feed_dict, options, run_metadata)\u001b[0m\n\u001b[0;32m   1315\u001b[0m     \u001b[1;32mif\u001b[0m \u001b[0mhandle\u001b[0m \u001b[1;32mis\u001b[0m \u001b[1;32mNone\u001b[0m\u001b[1;33m:\u001b[0m\u001b[1;33m\u001b[0m\u001b[0m\n\u001b[0;32m   1316\u001b[0m       return self._do_call(_run_fn, self._session, feeds, fetches, targets,\n\u001b[1;32m-> 1317\u001b[1;33m                            options, run_metadata)\n\u001b[0m\u001b[0;32m   1318\u001b[0m     \u001b[1;32melse\u001b[0m\u001b[1;33m:\u001b[0m\u001b[1;33m\u001b[0m\u001b[0m\n\u001b[0;32m   1319\u001b[0m       \u001b[1;32mreturn\u001b[0m \u001b[0mself\u001b[0m\u001b[1;33m.\u001b[0m\u001b[0m_do_call\u001b[0m\u001b[1;33m(\u001b[0m\u001b[0m_prun_fn\u001b[0m\u001b[1;33m,\u001b[0m \u001b[0mself\u001b[0m\u001b[1;33m.\u001b[0m\u001b[0m_session\u001b[0m\u001b[1;33m,\u001b[0m \u001b[0mhandle\u001b[0m\u001b[1;33m,\u001b[0m \u001b[0mfeeds\u001b[0m\u001b[1;33m,\u001b[0m \u001b[0mfetches\u001b[0m\u001b[1;33m)\u001b[0m\u001b[1;33m\u001b[0m\u001b[0m\n",
      "\u001b[1;32m~\\Anaconda2\\envs\\tf14\\lib\\site-packages\\tensorflow\\python\\client\\session.py\u001b[0m in \u001b[0;36m_do_call\u001b[1;34m(self, fn, *args)\u001b[0m\n\u001b[0;32m   1334\u001b[0m         \u001b[1;32mexcept\u001b[0m \u001b[0mKeyError\u001b[0m\u001b[1;33m:\u001b[0m\u001b[1;33m\u001b[0m\u001b[0m\n\u001b[0;32m   1335\u001b[0m           \u001b[1;32mpass\u001b[0m\u001b[1;33m\u001b[0m\u001b[0m\n\u001b[1;32m-> 1336\u001b[1;33m       \u001b[1;32mraise\u001b[0m \u001b[0mtype\u001b[0m\u001b[1;33m(\u001b[0m\u001b[0me\u001b[0m\u001b[1;33m)\u001b[0m\u001b[1;33m(\u001b[0m\u001b[0mnode_def\u001b[0m\u001b[1;33m,\u001b[0m \u001b[0mop\u001b[0m\u001b[1;33m,\u001b[0m \u001b[0mmessage\u001b[0m\u001b[1;33m)\u001b[0m\u001b[1;33m\u001b[0m\u001b[0m\n\u001b[0m\u001b[0;32m   1337\u001b[0m \u001b[1;33m\u001b[0m\u001b[0m\n\u001b[0;32m   1338\u001b[0m   \u001b[1;32mdef\u001b[0m \u001b[0m_extend_graph\u001b[0m\u001b[1;33m(\u001b[0m\u001b[0mself\u001b[0m\u001b[1;33m)\u001b[0m\u001b[1;33m:\u001b[0m\u001b[1;33m\u001b[0m\u001b[0m\n",
      "\u001b[1;31mInvalidArgumentError\u001b[0m: You must feed a value for placeholder tensor 'Placeholder' with dtype float\n\t [[Node: Placeholder = Placeholder[dtype=DT_FLOAT, shape=[], _device=\"/job:localhost/replica:0/task:0/device:GPU:0\"]()]]\n\t [[Node: Add/_1 = _Recv[client_terminated=false, recv_device=\"/job:localhost/replica:0/task:0/device:CPU:0\", send_device=\"/job:localhost/replica:0/task:0/device:GPU:0\", send_device_incarnation=1, tensor_name=\"edge_7_Add\", tensor_type=DT_FLOAT, _device=\"/job:localhost/replica:0/task:0/device:CPU:0\"]()]]\n\nCaused by op 'Placeholder', defined at:\n  File \"C:\\Users\\Administrateur\\Anaconda2\\envs\\tf14\\lib\\runpy.py\", line 193, in _run_module_as_main\n    \"__main__\", mod_spec)\n  File \"C:\\Users\\Administrateur\\Anaconda2\\envs\\tf14\\lib\\runpy.py\", line 85, in _run_code\n    exec(code, run_globals)\n  File \"C:\\Users\\Administrateur\\Anaconda2\\envs\\tf14\\lib\\site-packages\\ipykernel_launcher.py\", line 16, in <module>\n    app.launch_new_instance()\n  File \"C:\\Users\\Administrateur\\Anaconda2\\envs\\tf14\\lib\\site-packages\\traitlets\\config\\application.py\", line 658, in launch_instance\n    app.start()\n  File \"C:\\Users\\Administrateur\\Anaconda2\\envs\\tf14\\lib\\site-packages\\ipykernel\\kernelapp.py\", line 477, in start\n    ioloop.IOLoop.instance().start()\n  File \"C:\\Users\\Administrateur\\Anaconda2\\envs\\tf14\\lib\\site-packages\\zmq\\eventloop\\ioloop.py\", line 177, in start\n    super(ZMQIOLoop, self).start()\n  File \"C:\\Users\\Administrateur\\Anaconda2\\envs\\tf14\\lib\\site-packages\\tornado\\ioloop.py\", line 888, in start\n    handler_func(fd_obj, events)\n  File \"C:\\Users\\Administrateur\\Anaconda2\\envs\\tf14\\lib\\site-packages\\tornado\\stack_context.py\", line 277, in null_wrapper\n    return fn(*args, **kwargs)\n  File \"C:\\Users\\Administrateur\\Anaconda2\\envs\\tf14\\lib\\site-packages\\zmq\\eventloop\\zmqstream.py\", line 440, in _handle_events\n    self._handle_recv()\n  File \"C:\\Users\\Administrateur\\Anaconda2\\envs\\tf14\\lib\\site-packages\\zmq\\eventloop\\zmqstream.py\", line 472, in _handle_recv\n    self._run_callback(callback, msg)\n  File \"C:\\Users\\Administrateur\\Anaconda2\\envs\\tf14\\lib\\site-packages\\zmq\\eventloop\\zmqstream.py\", line 414, in _run_callback\n    callback(*args, **kwargs)\n  File \"C:\\Users\\Administrateur\\Anaconda2\\envs\\tf14\\lib\\site-packages\\tornado\\stack_context.py\", line 277, in null_wrapper\n    return fn(*args, **kwargs)\n  File \"C:\\Users\\Administrateur\\Anaconda2\\envs\\tf14\\lib\\site-packages\\ipykernel\\kernelbase.py\", line 283, in dispatcher\n    return self.dispatch_shell(stream, msg)\n  File \"C:\\Users\\Administrateur\\Anaconda2\\envs\\tf14\\lib\\site-packages\\ipykernel\\kernelbase.py\", line 235, in dispatch_shell\n    handler(stream, idents, msg)\n  File \"C:\\Users\\Administrateur\\Anaconda2\\envs\\tf14\\lib\\site-packages\\ipykernel\\kernelbase.py\", line 399, in execute_request\n    user_expressions, allow_stdin)\n  File \"C:\\Users\\Administrateur\\Anaconda2\\envs\\tf14\\lib\\site-packages\\ipykernel\\ipkernel.py\", line 196, in do_execute\n    res = shell.run_cell(code, store_history=store_history, silent=silent)\n  File \"C:\\Users\\Administrateur\\Anaconda2\\envs\\tf14\\lib\\site-packages\\ipykernel\\zmqshell.py\", line 533, in run_cell\n    return super(ZMQInteractiveShell, self).run_cell(*args, **kwargs)\n  File \"C:\\Users\\Administrateur\\Anaconda2\\envs\\tf14\\lib\\site-packages\\IPython\\core\\interactiveshell.py\", line 2698, in run_cell\n    interactivity=interactivity, compiler=compiler, result=result)\n  File \"C:\\Users\\Administrateur\\Anaconda2\\envs\\tf14\\lib\\site-packages\\IPython\\core\\interactiveshell.py\", line 2802, in run_ast_nodes\n    if self.run_code(code, result):\n  File \"C:\\Users\\Administrateur\\Anaconda2\\envs\\tf14\\lib\\site-packages\\IPython\\core\\interactiveshell.py\", line 2862, in run_code\n    exec(code_obj, self.user_global_ns, self.user_ns)\n  File \"<ipython-input-6-310793b4603c>\", line 4, in <module>\n    a = tf.placeholder(tf.float32, shape=()) # Use shape = () if the object is a scalar\n  File \"C:\\Users\\Administrateur\\Anaconda2\\envs\\tf14\\lib\\site-packages\\tensorflow\\python\\ops\\array_ops.py\", line 1599, in placeholder\n    return gen_array_ops._placeholder(dtype=dtype, shape=shape, name=name)\n  File \"C:\\Users\\Administrateur\\Anaconda2\\envs\\tf14\\lib\\site-packages\\tensorflow\\python\\ops\\gen_array_ops.py\", line 3090, in _placeholder\n    \"Placeholder\", dtype=dtype, shape=shape, name=name)\n  File \"C:\\Users\\Administrateur\\Anaconda2\\envs\\tf14\\lib\\site-packages\\tensorflow\\python\\framework\\op_def_library.py\", line 787, in _apply_op_helper\n    op_def=op_def)\n  File \"C:\\Users\\Administrateur\\Anaconda2\\envs\\tf14\\lib\\site-packages\\tensorflow\\python\\framework\\ops.py\", line 2956, in create_op\n    op_def=op_def)\n  File \"C:\\Users\\Administrateur\\Anaconda2\\envs\\tf14\\lib\\site-packages\\tensorflow\\python\\framework\\ops.py\", line 1470, in __init__\n    self._traceback = self._graph._extract_stack()  # pylint: disable=protected-access\n\nInvalidArgumentError (see above for traceback): You must feed a value for placeholder tensor 'Placeholder' with dtype float\n\t [[Node: Placeholder = Placeholder[dtype=DT_FLOAT, shape=[], _device=\"/job:localhost/replica:0/task:0/device:GPU:0\"]()]]\n\t [[Node: Add/_1 = _Recv[client_terminated=false, recv_device=\"/job:localhost/replica:0/task:0/device:CPU:0\", send_device=\"/job:localhost/replica:0/task:0/device:GPU:0\", send_device_incarnation=1, tensor_name=\"edge_7_Add\", tensor_type=DT_FLOAT, _device=\"/job:localhost/replica:0/task:0/device:CPU:0\"]()]]\n"
     ]
    }
   ],
   "source": [
    "sess = tf.Session()\n",
    "\n",
    "print(c.eval(session=sess))"
   ]
  },
  {
   "cell_type": "markdown",
   "metadata": {},
   "source": [
    "We can do that using the `feed_dict` argument of `eval`:"
   ]
  },
  {
   "cell_type": "code",
   "execution_count": 8,
   "metadata": {},
   "outputs": [
    {
     "name": "stdout",
     "output_type": "stream",
     "text": [
      "8.0\n"
     ]
    }
   ],
   "source": [
    "c_evaluated = c.eval(session=sess, feed_dict={a: 5, b: 3})\n",
    "print(c_evaluated)"
   ]
  },
  {
   "cell_type": "markdown",
   "metadata": {},
   "source": [
    "We can now start building something a bit more complex. The following example creates a network with the following characteristics :\n",
    "\n",
    "* As **input**, a batch of 10x10x1 pixels images.\n",
    "* One \"**convolutional layer**\" with 16 3x3 kernel and the \"Leaky ReLU\" activation function\n",
    "* One operation to **flatten** the resulting \"feature maps\" into vectors\n",
    "* One \"**dense layer**\" with as output a size 5 vector and the \"Leaky ReLU\" activation function\n",
    "* One \"**softmax**\" layer applied at the end to get a \"probability distribution\" for the 5 \"classes\" "
   ]
  },
  {
   "cell_type": "code",
   "execution_count": 9,
   "metadata": {},
   "outputs": [
    {
     "name": "stdout",
     "output_type": "stream",
     "text": [
      "(?, 8, 8, 16)\n",
      "(?, 1024)\n",
      "(?, 5)\n",
      "(?, 5)\n"
     ]
    }
   ],
   "source": [
    "tf.reset_default_graph()\n",
    "\n",
    "X = tf.placeholder(tf.float32, [None, 10, 10, 1]) # \"None\" is interpreted in this case by TensorFlow as \"unknown\"\n",
    "conv = tf.layers.conv2d(X, 16, 3, activation=tf.nn.leaky_relu, kernel_initializer=tf.contrib.layers.variance_scaling_initializer())\n",
    "print(conv.get_shape()) # What's the effect of the convolution on the shape of the output ? Why ?\n",
    "flat = tf.layers.flatten(conv)\n",
    "print(flat.get_shape())\n",
    "dense = tf.layers.dense(flat, 5, activation=tf.nn.leaky_relu)\n",
    "print(dense.get_shape())\n",
    "softmax = tf.nn.softmax(dense)\n",
    "print(softmax.get_shape())"
   ]
  },
  {
   "cell_type": "markdown",
   "metadata": {},
   "source": [
    "If we want to evaluate the \"ouput\" of our network, we must give as input a batch of 10x10x1 images. Let's create 2 random images, and get the output :"
   ]
  },
  {
   "cell_type": "code",
   "execution_count": 10,
   "metadata": {},
   "outputs": [
    {
     "data": {
      "image/png": "[encoded data removed]",
      "text/plain": [
       "<matplotlib.figure.Figure at 0x1c23b4579b0>"
      ]
     },
     "metadata": {},
     "output_type": "display_data"
    },
    {
     "name": "stdout",
     "output_type": "stream",
     "text": [
      "[[ 0.17761146  0.20413478  0.14053269  0.20804606  0.26967505]\n",
      " [ 0.17995864  0.14955208  0.15240826  0.26249883  0.25558224]]\n"
     ]
    }
   ],
   "source": [
    "Xrand = np.random.random((2,10,10,1))\n",
    "# Show the two images:\n",
    "plt.figure()\n",
    "plt.subplot(1,2,1)\n",
    "plt.imshow(Xrand[0,:,:,0])\n",
    "plt.subplot(1,2,2)\n",
    "plt.imshow(Xrand[1,:,:,0])\n",
    "plt.show()\n",
    "\n",
    "sess = tf.Session()\n",
    "sess.run(tf.global_variables_initializer())\n",
    "output = softmax.eval(session=sess, feed_dict={X: Xrand})\n",
    "print(output)"
   ]
  },
  {
   "cell_type": "markdown",
   "metadata": {},
   "source": [
    "### Defining the cost function and the optimizer\n",
    "\n",
    "As we can see, for each of the two \"images\", we have a size-5 \"output\" vector. This is of course at the moment all meaningless, unless we train this network to actually *do* something.\n",
    "\n",
    "In a supervised problem, we have *two* inputs: the images, and the target output. We also have a cost function which compares the \"target\" and the \"prediction\". In classification problems, the most common cost function is the cross-entropy. In regression problems, it's the mean square error. Let's create the target and the cross-entropy cost function:"
   ]
  },
  {
   "cell_type": "code",
   "execution_count": 11,
   "metadata": {},
   "outputs": [
    {
     "name": "stdout",
     "output_type": "stream",
     "text": [
      "(?,)\n"
     ]
    }
   ],
   "source": [
    "target = tf.placeholder(tf.float32, [None, 5]) # Target must have the same shape as the output\n",
    "cost = tf.nn.softmax_cross_entropy_with_logits(labels=target, logits=dense) \n",
    "# Note that the \"softmax cross entropy\" function already does the \"softmax\" operation, so we don't do logits=softmax but logits=dense.\n",
    "print(cost.get_shape())"
   ]
  },
  {
   "cell_type": "markdown",
   "metadata": {},
   "source": [
    "As we can see, this computes a cost \"per image\". When training a neural network, we want to have a cost \"per batch\", which will usually be simply the mean value of the \"per image\" cost:"
   ]
  },
  {
   "cell_type": "code",
   "execution_count": 12,
   "metadata": {},
   "outputs": [
    {
     "name": "stdout",
     "output_type": "stream",
     "text": [
      "()\n"
     ]
    }
   ],
   "source": [
    "cost_avg = tf.reduce_mean(cost)\n",
    "print(cost_avg.get_shape())"
   ]
  },
  {
   "cell_type": "markdown",
   "metadata": {},
   "source": [
    "Finally, we have to define the optimizer. Tensorflow provides different options, which are all variants of the simple Gradient Descent algorithm. We will use here the \"Adam\" optimizer, which tend to perform well. With this optimizer, we can define the \"training step\" of the algorithm, meaning \"what the training algorithm must do at each iteration\". In this case, we want to use the optimizer to minimize the cost function:"
   ]
  },
  {
   "cell_type": "code",
   "execution_count": 13,
   "metadata": {
    "collapsed": true
   },
   "outputs": [],
   "source": [
    "optimizer = tf.train.AdamOptimizer()\n",
    "trainingStep = optimizer.minimize(cost_avg)"
   ]
  },
  {
   "cell_type": "markdown",
   "metadata": {},
   "source": [
    "### Training the network on the training set\n",
    "\n",
    "Right now, we don't have a training set for this fake network. Let's quickly generate one, with some simple rules:\n",
    "\n",
    "* We will generate 1000 images\n",
    "* Each image will be assigned to a random class\n",
    "* Depending on the class, there will be some empty pixels in the image (0 = top-left corner, 1 = top-right, ..., 4 = none)"
   ]
  },
  {
   "cell_type": "code",
   "execution_count": 14,
   "metadata": {},
   "outputs": [],
   "source": [
    "N = 1000\n",
    "\n",
    "fake_train_class = (np.random.random((N,))*5).astype('int')\n",
    "fake_train_target = np.zeros((N,5))\n",
    "fake_train_images = np.random.random((N,10,10,1))\n",
    "\n",
    "for i in range(N):\n",
    "    c = fake_train_class[i]\n",
    "    fake_train_target[i,c] = 1\n",
    "    if( c == 0 ):\n",
    "        fake_train_images[i,:5,:5,0] = 0\n",
    "    elif( c== 1 ):\n",
    "        fake_train_images[i,:5,5:,0] = 0\n",
    "    elif( c== 2 ):\n",
    "        fake_train_images[i,5:,:5,0] = 0\n",
    "    elif( c== 3 ):\n",
    "        fake_train_images[i,5:,5:,0] = 0"
   ]
  },
  {
   "cell_type": "markdown",
   "metadata": {},
   "source": [
    "Now let's use this training set to train our network. We will use a batch size of 10 (meaning that the network is trained on 10 images at a time), and go through all images once (= \"trained for 1 epoch\")."
   ]
  },
  {
   "cell_type": "code",
   "execution_count": 16,
   "metadata": {},
   "outputs": [],
   "source": [
    "BATCH_SIZE = 10\n",
    "EPOCHS = 1\n",
    "\n",
    "# Reset session\n",
    "sess = tf.Session()\n",
    "sess.run(tf.global_variables_initializer())\n",
    "\n",
    "for e in range(EPOCHS):\n",
    "    for i in range(N//BATCH_SIZE):\n",
    "        # Load batch\n",
    "        batch_X = fake_train_images[i*BATCH_SIZE:(i+1)*BATCH_SIZE]\n",
    "        batch_Y = fake_train_target[i*BATCH_SIZE:(i+1)*BATCH_SIZE]\n",
    "\n",
    "        # Perform training step\n",
    "        trainingStep.run(session=sess, feed_dict={X: batch_X, target: batch_Y})"
   ]
  },
  {
   "cell_type": "markdown",
   "metadata": {},
   "source": [
    "### Evaluating the network on the test set\n",
    "\n",
    "The network has been \"trained\", but we have no idea how well it performs ! To do that, we should generate a test set which we will use to see if the network prediction matches the target. As we are generating the examples, we can make as many as we like, so we will also use 1000:"
   ]
  },
  {
   "cell_type": "code",
   "execution_count": 17,
   "metadata": {
    "collapsed": true
   },
   "outputs": [],
   "source": [
    "fake_test_class = (np.random.random((N,))*5).astype('int')\n",
    "fake_test_target = np.zeros((N,5))\n",
    "fake_test_images = np.random.random((N,10,10,1))\n",
    "\n",
    "for i in range(N):\n",
    "    c = fake_test_class[i]\n",
    "    fake_test_target[i,c] = 1\n",
    "    if( c == 0 ):\n",
    "        fake_test_images[i,:5,:5,0] = 0\n",
    "    elif( c== 1 ):\n",
    "        fake_test_images[i,:5,5:,0] = 0\n",
    "    elif( c== 2 ):\n",
    "        fake_test_images[i,5:,:5,0] = 0\n",
    "    elif( c== 3 ):\n",
    "        fake_test_images[i,5:,5:,0] = 0"
   ]
  },
  {
   "cell_type": "markdown",
   "metadata": {},
   "source": [
    "We can get the prediction of the network for the entire set (if the network was bigger, we would probably have to do the prediction in batches...)"
   ]
  },
  {
   "cell_type": "code",
   "execution_count": 18,
   "metadata": {
    "collapsed": true
   },
   "outputs": [],
   "source": [
    "test_predicted = softmax.eval(session=sess, feed_dict={X: fake_test_images})"
   ]
  },
  {
   "cell_type": "markdown",
   "metadata": {},
   "source": [
    "The \"predicted class\" will be the index of the highest value of the size 5 vector after the softmax operation. We can get it using the argmax operation:"
   ]
  },
  {
   "cell_type": "code",
   "execution_count": 19,
   "metadata": {},
   "outputs": [
    {
     "name": "stdout",
     "output_type": "stream",
     "text": [
      "(1000, 5)\n",
      "(1000,)\n",
      "(1000,)\n"
     ]
    }
   ],
   "source": [
    "print(test_predicted.shape)\n",
    "test_predicted_class = test_predicted.argmax(axis=1)\n",
    "print(test_predicted_class.shape)\n",
    "print(fake_test_class.shape)"
   ]
  },
  {
   "cell_type": "markdown",
   "metadata": {},
   "source": [
    "To get the global accuracy of the test, we can just compare the predicted class vector with the target class vector :"
   ]
  },
  {
   "cell_type": "code",
   "execution_count": 20,
   "metadata": {},
   "outputs": [
    {
     "name": "stdout",
     "output_type": "stream",
     "text": [
      "Accuracy : 99.90%\n"
     ]
    }
   ],
   "source": [
    "accuracy = (test_predicted_class==fake_test_class).sum()/len(test_predicted_class)\n",
    "print(\"Accuracy : %.2f%%\"%(accuracy*100))"
   ]
  },
  {
   "cell_type": "markdown",
   "metadata": {},
   "source": [
    "This is very good, but the problem was extremely easy. However, you now have everything you need to create your network and apply it to the OCR problem."
   ]
  },
  {
   "cell_type": "markdown",
   "metadata": {},
   "source": [
    "## Solving the OCR dataset\n",
    "\n",
    "Using as a template the code from the previous exercise, provided below for simplicity, create a network which will work on the OCR problem."
   ]
  },
  {
   "cell_type": "code",
   "execution_count": 21,
   "metadata": {},
   "outputs": [
    {
     "name": "stdout",
     "output_type": "stream",
     "text": [
      "0.998\n"
     ]
    }
   ],
   "source": [
    "tf.reset_default_graph()\n",
    "\n",
    "# Building the network\n",
    "X = tf.placeholder(tf.float32, [None, 10, 10, 1])\n",
    "conv = tf.layers.conv2d(X, 16, 3, activation=tf.nn.leaky_relu, kernel_initializer=tf.contrib.layers.variance_scaling_initializer())\n",
    "flat = tf.layers.flatten(conv)\n",
    "dense = tf.layers.dense(flat, 5, activation=tf.nn.leaky_relu)\n",
    "softmax = tf.nn.softmax(dense)\n",
    "\n",
    "# Preparing the training operation\n",
    "target = tf.placeholder(tf.float32, [None, 5]) # Target must have the same shape as the output\n",
    "cost = tf.nn.softmax_cross_entropy_with_logits(labels=target, logits=dense) \n",
    "cost_avg = tf.reduce_mean(cost)\n",
    "optimizer = tf.train.AdamOptimizer()\n",
    "trainingStep = optimizer.minimize(cost_avg)\n",
    "\n",
    "# Train the network\n",
    "BATCH_SIZE = 10\n",
    "N = 1000\n",
    "EPOCHS = 1\n",
    "\n",
    "sess = tf.Session()\n",
    "sess.run(tf.global_variables_initializer())\n",
    "\n",
    "for e in range(EPOCHS):\n",
    "    for i in range(N//BATCH_SIZE):\n",
    "        # Load batch\n",
    "        batch_X = fake_train_images[i*BATCH_SIZE:(i+1)*BATCH_SIZE]\n",
    "        batch_Y = fake_train_target[i*BATCH_SIZE:(i+1)*BATCH_SIZE]\n",
    "\n",
    "        # Perform training step\n",
    "        trainingStep.run(session=sess, feed_dict={X: batch_X, target: batch_Y})\n",
    "\n",
    "# Test the network\n",
    "test_predicted = softmax.eval(session=sess, feed_dict={X: fake_test_images})\n",
    "test_predicted_class = test_predicted.argmax(axis=1)\n",
    "\n",
    "accuracy = (test_predicted_class==fake_test_class).sum()/len(test_predicted_class)\n",
    "print(accuracy)"
   ]
  },
  {
   "cell_type": "markdown",
   "metadata": {},
   "source": [
    "## Using TensorBoard for visualisation and monitoring\n",
    "\n",
    "TensorBoard is a tool provided alongside TensorFlow to make it easier to inspect a network and follow the learning process. During the graph creation process, it's possible to add \"[summaries](https://www.tensorflow.org/guide/summaries_and_tensorboard)\", which can track the evolution of the loss, of weights, or any other measure you may be interested in. The summaries will also include a representation of the graph, which is useful to visualize (and debug) the network. \n",
    "\n",
    "Using the example below, which adds a summary to the fake test network, add a summary for the cost of your OCR network.\n",
    "\n",
    "To start tensorboard, open the *Anaconda Prompt* and go to the directory where this file is located, then execute the command:\n",
    "\n",
    "```\n",
    "tensorboard --logdir=./summary\n",
    "```\n",
    "\n",
    "You'll then be able to access TensorBoard from your browser.\n",
    "\n",
    "**Where would you use the \"validation set\" in the OCR data?**"
   ]
  },
  {
   "cell_type": "code",
   "execution_count": 22,
   "metadata": {},
   "outputs": [],
   "source": [
    "import os\n",
    "\n",
    "tf.reset_default_graph()\n",
    "\n",
    "# Building the network\n",
    "X = tf.placeholder(tf.float32, [None, 10, 10, 1])\n",
    "conv = tf.layers.conv2d(X, 16, 3, activation=tf.nn.leaky_relu, kernel_initializer=tf.contrib.layers.variance_scaling_initializer())\n",
    "flat = tf.layers.flatten(conv)\n",
    "dense = tf.layers.dense(flat, 5, activation=tf.nn.leaky_relu)\n",
    "softmax = tf.nn.softmax(dense)\n",
    "\n",
    "# Preparing the training operation\n",
    "target = tf.placeholder(tf.float32, [None, 5]) # Target must have the same shape as the output\n",
    "cost = tf.nn.softmax_cross_entropy_with_logits(labels=target, logits=dense) \n",
    "cost_avg = tf.reduce_mean(cost)\n",
    "optimizer = tf.train.AdamOptimizer()\n",
    "trainingStep = optimizer.minimize(cost_avg)\n",
    "\n",
    "# Train the network\n",
    "BATCH_SIZE = 10\n",
    "N = 1000\n",
    "EPOCHS = 1\n",
    "\n",
    "sess = tf.Session()\n",
    "\n",
    "# Create Summary for the cost\n",
    "tf.summary.scalar('cost_avg', cost_avg)\n",
    "merged = tf.summary.merge_all()\n",
    "\n",
    "# Create \"summary\" directory if it doesn't exist\n",
    "if( not os.path.isdir('summary') ):\n",
    "    os.mkdir('summary')\n",
    "\n",
    "train_writer = tf.summary.FileWriter('summary', sess.graph)\n",
    "\n",
    "sess.run(tf.global_variables_initializer())\n",
    "\n",
    "for e in range(EPOCHS):\n",
    "    for i in range(N//BATCH_SIZE):\n",
    "        # Load batch\n",
    "        batch_X = fake_train_images[i*BATCH_SIZE:(i+1)*BATCH_SIZE]\n",
    "        batch_Y = fake_train_target[i*BATCH_SIZE:(i+1)*BATCH_SIZE]\n",
    "\n",
    "        # Perform training step\n",
    "        trainingStep.run(session=sess, feed_dict={X: batch_X, target: batch_Y})\n",
    "\n",
    "        # Summary writing (note: in a real application, this could for instance be done only once per epoch)\n",
    "        summ = sess.run(merged, feed_dict={X: batch_X, target: batch_Y})\n",
    "        train_writer.add_summary(summ, i)\n",
    "\n",
    "# Test the network\n",
    "test_predicted = softmax.eval(session=sess, feed_dict={X: fake_test_images})\n",
    "test_predicted_class = test_predicted.argmax(axis=1)\n",
    "\n",
    "accuracy = (test_predicted_class==fake_test_class).sum()/len(test_predicted_class)"
   ]
  },
  {
   "cell_type": "markdown",
   "metadata": {},
   "source": [
    "## Saving and  loading networks\n",
    "\n",
    "For a network to be useful, we need to be able to save it, and to reload it so that it can be trained once and reused as necessary. The following code shows how to save the network, load it, and access the placeholders & output necessary for inference, once again using our fake example. You should modify this code to do the same with the OCR network."
   ]
  },
  {
   "cell_type": "code",
   "execution_count": null,
   "metadata": {},
   "outputs": [],
   "source": [
    "import os\n",
    "\n",
    "tf.reset_default_graph()\n",
    "\n",
    "# Building the network\n",
    "X = tf.placeholder(tf.float32, [None, 10, 10, 1])\n",
    "conv = tf.layers.conv2d(X, 16, 3, activation=tf.nn.leaky_relu, kernel_initializer=tf.contrib.layers.variance_scaling_initializer())\n",
    "flat = tf.layers.flatten(conv)\n",
    "dense = tf.layers.dense(flat, 5, activation=tf.nn.leaky_relu)\n",
    "softmax = tf.nn.softmax(dense)\n",
    "\n",
    "# Preparing the training operation\n",
    "target = tf.placeholder(tf.float32, [None, 5]) # Target must have the same shape as the output\n",
    "cost = tf.nn.softmax_cross_entropy_with_logits(labels=target, logits=dense) \n",
    "cost_avg = tf.reduce_mean(cost)\n",
    "optimizer = tf.train.AdamOptimizer()\n",
    "trainingStep = optimizer.minimize(cost_avg)\n",
    "\n",
    "# Train the network\n",
    "BATCH_SIZE = 10\n",
    "N = 1000\n",
    "EPOCHS = 1\n",
    "\n",
    "sess = tf.Session()\n",
    "\n",
    "# Create Summary for the cost\n",
    "tf.summary.scalar('cost_avg', cost_avg)\n",
    "merged = tf.summary.merge_all()\n",
    "\n",
    "# Create \"summary\" directory if it doesn't exist\n",
    "if( not os.path.isdir('summary') ):\n",
    "    os.mkdir('summary')\n",
    "\n",
    "train_writer = tf.summary.FileWriter('summary', sess.graph)\n",
    "\n",
    "# Create \"Saver\"\n",
    "saver = tf.train.Saver()\n",
    "\n",
    "sess.run(tf.global_variables_initializer())\n",
    "\n",
    "for e in range(EPOCHS):\n",
    "    for i in range(N//BATCH_SIZE):\n",
    "        # Load batch\n",
    "        batch_X = fake_train_images[i*BATCH_SIZE:(i+1)*BATCH_SIZE]\n",
    "        batch_Y = fake_train_target[i*BATCH_SIZE:(i+1)*BATCH_SIZE]\n",
    "\n",
    "        # Perform training step\n",
    "        trainingStep.run(session=sess, feed_dict={X: batch_X, target: batch_Y})\n",
    "\n",
    "        # Summary writing:\n",
    "        summ = sess.run(merged, feed_dict={X: batch_X, target: batch_Y})\n",
    "        train_writer.add_summary(summ, i)\n",
    "\n",
    "# Save trained network\n",
    "saver.save(sess, \"./fake_network.ckpt\") # .ckpt = tensorflow \"checkpoint\" files."
   ]
  },
  {
   "cell_type": "markdown",
   "metadata": {},
   "source": [
    "We can load specific operations or tensors in the graph once it has been restored. To get the name of the operation we need, we can check the graph in TensorBoard. Alternatively, we can define the names when building the graph. We could for instance have written: `X = tf.placeholder(tf.float32, [None, 10, 10, 1], name='X')`, in which case we would access the operation with `X = tf.get_default_graph().get_operation_by_name('X')`."
   ]
  },
  {
   "cell_type": "code",
   "execution_count": null,
   "metadata": {},
   "outputs": [],
   "source": [
    "# Load trained network\n",
    "tf.reset_default_graph()\n",
    "sess = tf.Session()\n",
    "\n",
    "saver = tf.train.import_meta_graph(\"./fake_network.ckpt.meta\") # Restore graph\n",
    "saver.restore(sess, \"./fake_network.ckpt\") # Restore weights\n",
    "\n",
    "# Load placeholder:\n",
    "X = tf.get_default_graph().get_operation_by_name('Placeholder').outputs[0]\n",
    "# Load network output\n",
    "output = tf.get_default_graph().get_operation_by_name('Softmax').outputs[0]\n",
    "\n",
    "# Test the network\n",
    "test_predicted = output.eval(session=sess, feed_dict={X: fake_test_images})\n",
    "test_predicted_class = test_predicted.argmax(axis=1)\n",
    "\n",
    "accuracy = (test_predicted_class==fake_test_class).sum()/len(test_predicted_class)\n",
    "print(accuracy)"
   ]
  }
 ],
 "metadata": {
  "kernelspec": {
   "display_name": "Python 3",
   "language": "python",
   "name": "python3"
  },
  "language_info": {
   "codemirror_mode": {
    "name": "ipython",
    "version": 3
   },
   "file_extension": ".py",
   "mimetype": "text/x-python",
   "name": "python",
   "nbconvert_exporter": "python",
   "pygments_lexer": "ipython3",
   "version": "3.5.3"
  }
 },
 "nbformat": 4,
 "nbformat_minor": 2
}
