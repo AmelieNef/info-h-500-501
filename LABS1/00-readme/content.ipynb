{
 "cells": [
  {
   "cell_type": "markdown",
   "metadata": {},
   "source": [
    "# Read me first\n",
    "\n",
    "list of useful references"
   ]
  },
  {
   "cell_type": "markdown",
   "metadata": {},
   "source": [
    "## python, ipython notebook\n",
    "\n",
    "* installing python distribution https://www.continuum.io/downloads\n",
    "* python tutorial https://docs.python.org/2/tutorial/\n",
    "* ipython tutorial https://ipython.org/ipython-doc/2/interactive/tutorial.html\n",
    "* notebook tutorial https://ipython.org/ipython-doc/3/notebook/index.html\n",
    "\n"
   ]
  },
  {
   "cell_type": "markdown",
   "metadata": {},
   "source": [
    "## python, matplotlib and numpy\n",
    "\n",
    "* MATPLOTLIB reference <http://matplotlib.sourceforge.net>\n",
    "* NUMPY reference <http://docs.scipy.org/doc/numpy/reference>"
   ]
  },
  {
   "cell_type": "markdown",
   "metadata": {},
   "source": [
    "## image processing\n",
    "\n",
    "* scikit-image reference <http://scikit-image.org>\n",
    "* scipy.ndimage reference <http://docs.scipy.org/doc/scipy/reference/ndimage.html>"
   ]
  },
  {
   "cell_type": "markdown",
   "metadata": {},
   "source": [
    "## misceleneous"
   ]
  },
  {
   "cell_type": "code",
   "execution_count": null,
   "metadata": {
    "collapsed": true
   },
   "outputs": [],
   "source": []
  }
 ],
 "metadata": {
  "kernelspec": {
   "display_name": "Python 2",
   "language": "python",
   "name": "python2"
  },
  "language_info": {
   "codemirror_mode": {
    "name": "ipython",
    "version": 2
   },
   "file_extension": ".py",
   "mimetype": "text/x-python",
   "name": "python",
   "nbconvert_exporter": "python",
   "pygments_lexer": "ipython2",
   "version": "2.7.10"
  }
 },
 "nbformat": 4,
 "nbformat_minor": 0
}
