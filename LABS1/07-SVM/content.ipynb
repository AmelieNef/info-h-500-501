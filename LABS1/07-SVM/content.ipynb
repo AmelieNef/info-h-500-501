{
 "cells": [
  {
   "cell_type": "markdown",
   "metadata": {},
   "source": [
    "Lab 7 - Support Vector Machines\n",
    "====\n",
    "\n",
    "A SVM classifier builds a set of hyper-planes to try and separate the data by maximizing the distance between the borders and the data points.\n",
    "\n",
    "![SVM](http://scikit-learn.org/stable/_images/sphx_glr_plot_separating_hyperplane_0011.png \"Decision border in an SVM\")\n",
    "\n",
    "This separation is generally not possible to achieve in the original data space. Therefore, the first step of the SVM is to project the data into a high or infinite dimensions space in which this linear separation can be done. The projection can be done with linear, polynomial, or more comonly \"RBF\" kernels."
   ]
  },
  {
   "cell_type": "markdown",
   "metadata": {},
   "source": [
    "**Build a simple SVM** using [the SVC (Support Vector Classfiication) from sklearn](http://scikit-learn.org/stable/modules/generated/sklearn.svm.SVC.html#sklearn.svm.SVC). **Train** it on the *grayscale images* of the CIFAR-10 dataset ."
   ]
  },
  {
   "cell_type": "code",
   "execution_count": null,
   "metadata": {
    "collapsed": false
   },
   "outputs": [],
   "source": [
    "import numpy as np\n",
    "import os\n",
    "\n",
    "class CIFAR10:    \n",
    "    def __init__(self, path):\n",
    "        self.path = path\n",
    "        # Pre-load all data\n",
    "        self.train = {}\n",
    "        self.test = {}\n",
    "        print('Pre-loading training data')\n",
    "        self.train['images'] = np.load(os.path.join(path, 'images.npy')).astype('uint8')\n",
    "        self.train['images_gs'] = np.load(os.path.join(path, 'images_gs.npy')).astype('uint8')\n",
    "        self.train['images_hog'] = np.load(os.path.join(path, 'images_hog.npy'))\n",
    "        self.train['images_pca'] = np.load(os.path.join(path, 'images_pca.npy'))\n",
    "        self.train['labels'] = np.load(os.path.join(path, 'labels_.npy')).astype('uint8')\n",
    "        print('Pre-loading test data')\n",
    "        self.test['images'] = np.load(os.path.join(path, 'test_images.npy')).astype('uint8')\n",
    "        self.test['images_gs'] = np.load(os.path.join(path, 'test_images_gs.npy')).astype('uint8')\n",
    "        self.test['images_hog'] = np.load(os.path.join(path, 'test_images_hog.npy'))\n",
    "        self.test['images_pca'] = np.load(os.path.join(path, 'test_images_pca.npy'))\n",
    "        self.test['labels'] = np.load(os.path.join(path, 'test_labels.npy')).astype('uint8')\n",
    "        \n",
    "        self.labels = ['Airplane', 'Bird', 'Horse']\n",
    "\n",
    "        from sklearn.metrics import confusion_matrix\n",
    "\n",
    "from sklearn.metrics import confusion_matrix\n",
    "        \n",
    "def evaluate_classifier(clf, test_data, test_labels):\n",
    "    pred = clf.predict(test_data)\n",
    "    C = confusion_matrix(pred, test_labels)\n",
    "    return C.diagonal().sum()*100./C.sum(),C \n",
    "\n",
    "dataset = CIFAR10('../CIFAR10')"
   ]
  },
  {
   "cell_type": "code",
   "execution_count": null,
   "metadata": {
    "collapsed": false
   },
   "outputs": [],
   "source": [
    "from sklearn.svm import SVC\n",
    "from sklearn.model_selection import StratifiedKFold\n",
    "\n",
    "# -- Your code here -- #"
   ]
  },
  {
   "cell_type": "markdown",
   "metadata": {},
   "source": [
    "**Explore the classifier**. Show some support vectors for each class. "
   ]
  },
  {
   "cell_type": "code",
   "execution_count": null,
   "metadata": {
    "collapsed": false
   },
   "outputs": [],
   "source": [
    "all_support_vectors = clf.support_vectors_ #Each line = 1 \"Support Vector\" ; 784 columns forming a 28x28 image \n",
    "vectors_per_class = clf.n_support_ #Number of \"Support Vector\" for each class\n",
    "\n",
    "## your code here ##"
   ]
  },
  {
   "cell_type": "markdown",
   "metadata": {},
   "source": [
    "**Try to find the best \"C\" parameter** using cross-validation. What influence does it have on the number of support vectors ?"
   ]
  },
  {
   "cell_type": "code",
   "execution_count": null,
   "metadata": {
    "collapsed": true
   },
   "outputs": [],
   "source": [
    "## your code here ##"
   ]
  },
  {
   "cell_type": "markdown",
   "metadata": {},
   "source": [
    "**Compare your results with those of the other classifiers**"
   ]
  },
  {
   "cell_type": "code",
   "execution_count": null,
   "metadata": {
    "collapsed": true
   },
   "outputs": [],
   "source": []
  }
 ],
 "metadata": {
  "anaconda-cloud": {},
  "kernelspec": {
   "display_name": "Python [conda env:py35]",
   "language": "python",
   "name": "conda-env-py35-py"
  },
  "language_info": {
   "codemirror_mode": {
    "name": "ipython",
    "version": 3
   },
   "file_extension": ".py",
   "mimetype": "text/x-python",
   "name": "python",
   "nbconvert_exporter": "python",
   "pygments_lexer": "ipython3",
   "version": "3.5.2"
  }
 },
 "nbformat": 4,
 "nbformat_minor": 0
}
