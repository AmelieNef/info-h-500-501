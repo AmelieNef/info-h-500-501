{
 "cells": [
  {
   "cell_type": "code",
   "execution_count": 1,
   "metadata": {
    "collapsed": false
   },
   "outputs": [
    {
     "name": "stdout",
     "output_type": "stream",
     "text": [
      "Pre-loading training data\n",
      "Pre-loading test data\n"
     ]
    }
   ],
   "source": [
    "import numpy as np\n",
    "import os\n",
    "\n",
    "class CIFAR10:    \n",
    "    def __init__(self, path):\n",
    "        self.path = path\n",
    "        # Pre-load all data\n",
    "        self.train = {}\n",
    "        self.test = {}\n",
    "        print('Pre-loading training data')\n",
    "        self.train['images'] = np.load(os.path.join(path, 'images.npy')).astype('uint8')\n",
    "        self.train['images_gs'] = np.load(os.path.join(path, 'images_gs.npy')).astype('uint8')\n",
    "        self.train['images_hog'] = np.load(os.path.join(path, 'images_hog.npy'))\n",
    "        self.train['images_pca'] = np.load(os.path.join(path, 'images_pca.npy'))\n",
    "        self.train['labels'] = np.load(os.path.join(path, 'labels_.npy')).astype('uint8')\n",
    "        print('Pre-loading test data')\n",
    "        self.test['images'] = np.load(os.path.join(path, 'test_images.npy')).astype('uint8')\n",
    "        self.test['images_gs'] = np.load(os.path.join(path, 'test_images_gs.npy')).astype('uint8')\n",
    "        self.test['images_hog'] = np.load(os.path.join(path, 'test_images_hog.npy'))\n",
    "        self.test['images_pca'] = np.load(os.path.join(path, 'test_images_pca.npy'))\n",
    "        self.test['labels'] = np.load(os.path.join(path, 'test_labels.npy')).astype('uint8')\n",
    "        \n",
    "        self.labels = ['Airplane', 'Bird', 'Horse']\n",
    "\n",
    "        from sklearn.metrics import confusion_matrix\n",
    "\n",
    "from sklearn.metrics import confusion_matrix\n",
    "\n",
    "def evaluate_classifier(clf, test_data, test_labels):\n",
    "    pred = clf.predict(test_data)\n",
    "    C = confusion_matrix(pred, test_labels)\n",
    "    return C.diagonal().sum()*100./C.sum(),C \n",
    "\n",
    "dataset = CIFAR10('../CIFAR10')"
   ]
  },
  {
   "cell_type": "code",
   "execution_count": 2,
   "metadata": {
    "collapsed": true
   },
   "outputs": [],
   "source": [
    "from sklearn.svm import SVC\n",
    "from sklearn.model_selection import StratifiedKFold"
   ]
  },
  {
   "cell_type": "code",
   "execution_count": 9,
   "metadata": {
    "collapsed": false
   },
   "outputs": [
    {
     "data": {
      "text/plain": [
       "SVC(C=100000.0, cache_size=200, class_weight=None, coef0=0.0,\n",
       "  decision_function_shape='ovr', degree=3, gamma='auto', kernel='rbf',\n",
       "  max_iter=-1, probability=False, random_state=None, shrinking=True,\n",
       "  tol=0.001, verbose=False)"
      ]
     },
     "execution_count": 9,
     "metadata": {},
     "output_type": "execute_result"
    }
   ],
   "source": [
    "train_norm = (dataset.train['images_hog'] - dataset.train['images_hog'].mean(axis=0))/dataset.train['images_hog'].std(axis=0)\n",
    "test_norm = (dataset.test['images_hog'] - dataset.train['images_hog'].mean(axis=0))/dataset.train['images_hog'].std(axis=0)\n",
    "\n",
    "clf = SVC(C=100000.)\n",
    "clf.fit(train_norm, dataset.train['labels'])"
   ]
  },
  {
   "cell_type": "code",
   "execution_count": 4,
   "metadata": {
    "collapsed": false
   },
   "outputs": [
    {
     "name": "stdout",
     "output_type": "stream",
     "text": [
      "(15000,)\n"
     ]
    }
   ],
   "source": [
    "print(dataset.train['labels'].shape)"
   ]
  },
  {
   "cell_type": "code",
   "execution_count": 11,
   "metadata": {
    "collapsed": false
   },
   "outputs": [
    {
     "name": "stdout",
     "output_type": "stream",
     "text": [
      "(100.0, array([[5000,    0,    0],\n",
      "       [   0, 5000,    0],\n",
      "       [   0,    0, 5000]], dtype=int64))\n",
      "(83.233333333333334, array([[859, 117,  36],\n",
      "       [109, 789, 115],\n",
      "       [ 32,  94, 849]], dtype=int64))\n"
     ]
    }
   ],
   "source": [
    "print(evaluate_classifier(clf, train_norm, dataset.train['labels']))\n",
    "print(evaluate_classifier(clf, test_norm, dataset.test['labels']))"
   ]
  },
  {
   "cell_type": "code",
   "execution_count": 10,
   "metadata": {
    "collapsed": false
   },
   "outputs": [
    {
     "name": "stdout",
     "output_type": "stream",
     "text": [
      "(9938, 256)\n",
      "[3119 3946 2873]\n"
     ]
    }
   ],
   "source": [
    "all_support_vectors = clf.support_vectors_ #Each line = 1 \"Support Vector\" \n",
    "vectors_per_class = clf.n_support_ #Number of \"Support Vector\" for each class\n",
    "\n",
    "print(all_support_vectors.shape)\n",
    "print(vectors_per_class)"
   ]
  },
  {
   "cell_type": "code",
   "execution_count": 12,
   "metadata": {
    "collapsed": true
   },
   "outputs": [],
   "source": [
    "n_splits = 3\n",
    "kf = StratifiedKFold(n_splits)"
   ]
  },
  {
   "cell_type": "code",
   "execution_count": null,
   "metadata": {
    "collapsed": false
   },
   "outputs": [
    {
     "name": "stdout",
     "output_type": "stream",
     "text": [
      "C = 1000000\n",
      "Accuracy: 74.74 %\n",
      "Confusion matrix:\n",
      "[[ 3843.   735.   296.]\n",
      " [  765.  3445.   781.]\n",
      " [  392.   820.  3923.]]\n",
      "C = 10000000\n",
      "Accuracy: 73.94 %\n",
      "Confusion matrix:\n",
      "[[ 3866.   793.   337.]\n",
      " [  763.  3361.   799.]\n",
      " [  371.   846.  3864.]]\n",
      "C = 100000000\n",
      "Accuracy: 74.18 %\n",
      "Confusion matrix:\n",
      "[[ 3859.   773.   324.]\n",
      " [  766.  3386.   794.]\n",
      " [  375.   841.  3882.]]\n",
      "C = 1000000000\n",
      "Accuracy: 74.05 %\n",
      "Confusion matrix:\n",
      "[[ 3880.   793.   364.]\n",
      " [  748.  3377.   786.]\n",
      " [  372.   830.  3850.]]\n"
     ]
    }
   ],
   "source": [
    "g = [1e6,1e7]\n",
    "\n",
    "for c in Cs:\n",
    "    acc_s = 0\n",
    "    cm_s = np.zeros((3,3))\n",
    "    for train,test in kf.split(dataset.train['images_hog'], dataset.train['labels']):\n",
    "        train_x = dataset.train['images_hog'][train]\n",
    "        train_y = dataset.train['labels'][train]\n",
    "\n",
    "        clf = SVC(C=c)\n",
    "        clf.fit(train_x, train_y)\n",
    "\n",
    "        test_x = dataset.train['images_hog'][test]\n",
    "        test_y = dataset.train['labels'][test]\n",
    "\n",
    "        acc, cm = evaluate_classifier(clf, test_x, test_y)\n",
    "        acc_s += acc/n_splits\n",
    "        cm_s += cm\n",
    "    \n",
    "    print(\"C = %d\"%c)\n",
    "    print(\"Accuracy: %.2f %%\"%acc_s)\n",
    "    print(\"Confusion matrix:\")\n",
    "    print(cm_s)"
   ]
  },
  {
   "cell_type": "code",
   "execution_count": 14,
   "metadata": {
    "collapsed": false
   },
   "outputs": [
    {
     "name": "stdout",
     "output_type": "stream",
     "text": [
      "C = 1000000000\n",
      "Accuracy: 74.87 %\n",
      "Confusion matrix:\n",
      "[[ 3836.   716.   302.]\n",
      " [  765.  3474.   777.]\n",
      " [  399.   810.  3921.]]\n"
     ]
    }
   ],
   "source": [
    "acc_s = 0\n",
    "cm_s = np.zeros((3,3))\n",
    "for train,test in kf.split(dataset.train['images_hog'], dataset.train['labels']):\n",
    "    train_x = dataset.train['images_hog'][train]\n",
    "    train_y = dataset.train['labels'][train]\n",
    "\n",
    "    clf = SVC(C=1e5)\n",
    "    clf.fit(train_x, train_y)\n",
    "\n",
    "    test_x = dataset.train['images_hog'][test]\n",
    "    test_y = dataset.train['labels'][test]\n",
    "\n",
    "    acc, cm = evaluate_classifier(clf, test_x, test_y)\n",
    "    acc_s += acc/n_splits\n",
    "    cm_s += cm\n",
    "\n",
    "print(\"C = %d\"%c)\n",
    "print(\"Accuracy: %.2f %%\"%acc_s)\n",
    "print(\"Confusion matrix:\")\n",
    "print(cm_s)"
   ]
  },
  {
   "cell_type": "code",
   "execution_count": 15,
   "metadata": {
    "collapsed": false
   },
   "outputs": [
    {
     "name": "stdout",
     "output_type": "stream",
     "text": [
      "C = 1000000000\n",
      "Accuracy: 74.83 %\n",
      "Confusion matrix:\n",
      "[[ 3829.   704.   289.]\n",
      " [  759.  3467.   783.]\n",
      " [  412.   829.  3928.]]\n",
      "C = 1000000000\n",
      "Accuracy: 74.87 %\n",
      "Confusion matrix:\n",
      "[[ 3836.   716.   302.]\n",
      " [  765.  3474.   777.]\n",
      " [  399.   810.  3921.]]\n",
      "C = 1000000000\n",
      "Accuracy: 75.02 %\n",
      "Confusion matrix:\n",
      "[[ 3837.   712.   291.]\n",
      " [  775.  3499.   792.]\n",
      " [  388.   789.  3917.]]\n",
      "C = 1000000000\n",
      "Accuracy: 75.35 %\n",
      "Confusion matrix:\n",
      "[[ 3867.   709.   272.]\n",
      " [  763.  3485.   778.]\n",
      " [  370.   806.  3950.]]\n"
     ]
    }
   ],
   "source": [
    "gammas = [1./512,1./256,1./128,1./64]\n",
    "\n",
    "for g in gammas:\n",
    "    acc_s = 0\n",
    "    cm_s = np.zeros((3,3))\n",
    "    for train,test in kf.split(dataset.train['images_hog'], dataset.train['labels']):\n",
    "        train_x = dataset.train['images_hog'][train]\n",
    "        train_y = dataset.train['labels'][train]\n",
    "\n",
    "        clf = SVC(C=1e5, gamma=g)\n",
    "        clf.fit(train_x, train_y)\n",
    "\n",
    "        test_x = dataset.train['images_hog'][test]\n",
    "        test_y = dataset.train['labels'][test]\n",
    "\n",
    "        acc, cm = evaluate_classifier(clf, test_x, test_y)\n",
    "        acc_s += acc/n_splits\n",
    "        cm_s += cm\n",
    "    \n",
    "    print(\"g = %.6f\"%g)\n",
    "    print(\"Accuracy: %.2f %%\"%acc_s)\n",
    "    print(\"Confusion matrix:\")\n",
    "    print(cm_s)"
   ]
  },
  {
   "cell_type": "code",
   "execution_count": 16,
   "metadata": {
    "collapsed": false
   },
   "outputs": [
    {
     "name": "stdout",
     "output_type": "stream",
     "text": [
      "g = 0.015625\n",
      "Accuracy: 76.07 %\n",
      "Confusion matrix:\n",
      "[[ 3920.   699.   253.]\n",
      " [  749.  3496.   753.]\n",
      " [  331.   805.  3994.]]\n"
     ]
    }
   ],
   "source": [
    "acc_s = 0\n",
    "cm_s = np.zeros((3,3))\n",
    "for train,test in kf.split(dataset.train['images_hog'], dataset.train['labels']):\n",
    "    train_x = dataset.train['images_hog'][train]\n",
    "    train_y = dataset.train['labels'][train]\n",
    "\n",
    "    clf = SVC(C=1e5, gamma=1./32)\n",
    "    clf.fit(train_x, train_y)\n",
    "\n",
    "    test_x = dataset.train['images_hog'][test]\n",
    "    test_y = dataset.train['labels'][test]\n",
    "\n",
    "    acc, cm = evaluate_classifier(clf, test_x, test_y)\n",
    "    acc_s += acc/n_splits\n",
    "    cm_s += cm\n",
    "\n",
    "print(\"g = %.6f\"%g)\n",
    "print(\"Accuracy: %.2f %%\"%acc_s)\n",
    "print(\"Confusion matrix:\")\n",
    "print(cm_s)"
   ]
  },
  {
   "cell_type": "code",
   "execution_count": 17,
   "metadata": {
    "collapsed": false
   },
   "outputs": [
    {
     "name": "stdout",
     "output_type": "stream",
     "text": [
      "Descriptive\n",
      "(79.053333333333327, array([[4061,  624,  194],\n",
      "       [ 650, 3656,  665],\n",
      "       [ 289,  720, 4141]], dtype=int64))\n",
      "Predictive\n",
      "(75.966666666666669, array([[790, 129,  37],\n",
      "       [162, 692, 166],\n",
      "       [ 48, 179, 797]], dtype=int64))\n"
     ]
    }
   ],
   "source": [
    "clf = SVC(C=1e5, gamma=1./32)\n",
    "clf.fit( dataset.train['images_hog'], dataset.train['labels'] )\n",
    "\n",
    "print(\"Descriptive\")\n",
    "print(evaluate_classifier(clf, dataset.train['images_hog'], dataset.train['labels']))\n",
    "print(\"Predictive\")\n",
    "print(evaluate_classifier(clf, dataset.test['images_hog'], dataset.test['labels']))"
   ]
  }
 ],
 "metadata": {
  "anaconda-cloud": {},
  "kernelspec": {
   "display_name": "Python [conda env:py35]",
   "language": "python",
   "name": "conda-env-py35-py"
  },
  "language_info": {
   "codemirror_mode": {
    "name": "ipython",
    "version": 3
   },
   "file_extension": ".py",
   "mimetype": "text/x-python",
   "name": "python",
   "nbconvert_exporter": "python",
   "pygments_lexer": "ipython3",
   "version": "3.5.2"
  }
 },
 "nbformat": 4,
 "nbformat_minor": 0
}
