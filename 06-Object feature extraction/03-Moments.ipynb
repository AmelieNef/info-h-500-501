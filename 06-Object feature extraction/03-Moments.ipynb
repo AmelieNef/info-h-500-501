{
 "cells": [
  {
   "cell_type": "code",
   "execution_count": null,
   "metadata": {
    "collapsed": true
   },
   "outputs": [],
   "source": [
    "%matplotlib inline\n",
    "import sys\n",
    "sys.path.insert(0,'..')\n",
    "from IPython.display import HTML\n",
    "from helpers import header\n",
    "\n",
    "HTML(header(content=True))"
   ]
  },
  {
   "cell_type": "markdown",
   "metadata": {},
   "source": [
    "# Object moments\n",
    "\n",
    "* definition"
   ]
  },
  {
   "cell_type": "markdown",
   "metadata": {},
   "source": [
    "$$ m_{pq} = \\int_{-\\infty}^{+\\infty} \\int_{-\\infty}^{+\\infty} x^p y^q f(x,y)\\:dx\\:dy $$\n",
    "\n",
    "$$ \\mu_{pq} = \\int_{-\\infty}^{+\\infty} \\int_{-\\infty}^{+\\infty} (x-\\bar x)^p (y-\\bar y)^q f(x,y)\\:dx\\:dy $$\n",
    "\n",
    "$$ \\bar{x}=\\frac{m_{10}}{m_{00}},\\bar{y}=\\frac{m_{01}}{m_{00}} $$\n",
    "\n",
    "$$ m_{pq} = \\sum_{p= -\\infty}^{+\\infty}\\sum_{q=-\\infty}^{+\\infty} x^p \\; y^q \\; f(x,y) $$\n",
    "\n",
    "$$ \\mu_{pq} = \\sum_{p= -\\infty}^{+\\infty}\\sum_{q=-\\infty}^{+\\infty} (x-\\bar x)^p \\; (y-\\bar y)^q \\; f(x,y) $$ \n",
    "$$ \\nu_{pq} = \\frac{\\mu_{pq}}{\\mu_{pq}^\\gamma} $$\n",
    "\n",
    "avec \n",
    "\n",
    "$$ \\gamma = \\frac{p+q}{2} + 1 $$\n",
    "\n",
    "$$  \n",
    "\\begin{align}\n",
    "I_1 =\\ & \\eta_{20} + \\eta_{02} \\\\\n",
    "I_2 =\\ & (\\eta_{20} - \\eta_{02})^2 + (2\\eta_{11})^2 \\\\\n",
    "I_3 =\\ & (\\eta_{30} - 3\\eta_{12})^2 + (3\\eta_{21} - \\eta_{03})^2 \\\\\n",
    "I_4 =\\ & (\\eta_{30} + \\eta_{12})^2 + (\\eta_{21} + \\eta_{03})^2 \\\\\n",
    "I_5 =\\ & (\\eta_{30} - 3\\eta_{12}) (\\eta_{30} + \\eta_{12})[ (\\eta_{30} + \\eta_{12})^2 - 3 (\\eta_{21} + \\eta_{03})^2] + \\\\\n",
    "\\ & (3\\eta_{21} - \\eta_{03}) (\\eta_{21} + \\eta_{03})[ 3(\\eta_{30} + \\eta_{12})^2 -  (\\eta_{21} + \\eta_{03})^2] \\\\\n",
    "I_6 =\\ & (\\eta_{20} - \\eta_{02})[(\\eta_{30} + \\eta_{12})^2 - (\\eta_{21} + \\eta_{03})^2] + 4\\eta_{11}(\\eta_{30} + \\eta_{12})(\\eta_{21} + \\eta_{03}) \\\\\n",
    "I_7 =\\ & (3\\eta_{21} - \\eta_{03})(\\eta_{30} + \\eta_{12})[(\\eta_{30} + \\eta_{12})^2 - 3(\\eta_{21} + \\eta_{03})^2] + \\\\\n",
    "\\ & (\\eta_{30} - 3\\eta_{12})(\\eta_{21} + \\eta_{03})[3(\\eta_{30} + \\eta_{12})^2 - (\\eta_{21} + \\eta_{03})^2].\n",
    "\\end{align}\n",
    "$$"
   ]
  },
  {
   "cell_type": "code",
   "execution_count": null,
   "metadata": {
    "collapsed": true
   },
   "outputs": [],
   "source": []
  }
 ],
 "metadata": {
  "kernelspec": {
   "display_name": "Python 2",
   "language": "python",
   "name": "python2"
  },
  "language_info": {
   "codemirror_mode": {
    "name": "ipython",
    "version": 2
   },
   "file_extension": ".py",
   "mimetype": "text/x-python",
   "name": "python",
   "nbconvert_exporter": "python",
   "pygments_lexer": "ipython2",
   "version": "2.7.10"
  }
 },
 "nbformat": 4,
 "nbformat_minor": 0
}
