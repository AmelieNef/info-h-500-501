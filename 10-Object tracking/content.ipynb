{
 "cells": [
  {
   "cell_type": "markdown",
   "metadata": {},
   "source": [
    "##chapter content"
   ]
  },
  {
   "cell_type": "markdown",
   "metadata": {},
   "source": [
    "* background substraction\n",
    "* assignement problem/ hungarian method\n",
    "* least square method\n",
    "* RANSAC\n",
    "* optical flow\n",
    "* meanshift 2D/3D\n",
    "* cell tracking\n",
    "* particle filter\n",
    "* body skeleton fitting on range data (particle filter)\n",
    "* face tracking using color histogram\n",
    "* 3D reconstruction from n-range images "
   ]
  },
  {
   "cell_type": "code",
   "execution_count": null,
   "metadata": {
    "collapsed": true
   },
   "outputs": [],
   "source": []
  }
 ],
 "metadata": {
  "kernelspec": {
   "display_name": "Python 2",
   "language": "python",
   "name": "python2"
  },
  "language_info": {
   "codemirror_mode": {
    "name": "ipython",
    "version": 2
   },
   "file_extension": ".py",
   "mimetype": "text/x-python",
   "name": "python",
   "nbconvert_exporter": "python",
   "pygments_lexer": "ipython2",
   "version": "2.7.10"
  }
 },
 "nbformat": 4,
 "nbformat_minor": 0
}
