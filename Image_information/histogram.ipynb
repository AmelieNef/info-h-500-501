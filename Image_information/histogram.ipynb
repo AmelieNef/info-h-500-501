{
 "metadata": {
  "name": "",
  "signature": "sha256:27fbc0467acbf6dff76e23d95aa97ab0f18586bb236981f8b710a2c1de19b34b"
 },
 "nbformat": 3,
 "nbformat_minor": 0,
 "worksheets": [
  {
   "cells": [
    {
     "cell_type": "markdown",
     "metadata": {},
     "source": [
      "image histogram\n",
      "==============="
     ]
    },
    {
     "cell_type": "code",
     "collapsed": false,
     "input": [],
     "language": "python",
     "metadata": {},
     "outputs": []
    }
   ],
   "metadata": {}
  }
 ]
}